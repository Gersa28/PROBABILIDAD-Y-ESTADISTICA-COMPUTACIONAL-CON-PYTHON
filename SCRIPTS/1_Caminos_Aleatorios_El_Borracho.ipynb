{
 "cells": [
  {
   "cell_type": "markdown",
   "metadata": {},
   "source": [
    "# El Recorrido de los Borrachos"
   ]
  },
  {
   "attachments": {},
   "cell_type": "markdown",
   "metadata": {},
   "source": [
    "### Borracho"
   ]
  },
  {
   "cell_type": "code",
   "execution_count": 58,
   "metadata": {},
   "outputs": [],
   "source": [
    "# Creamos un archivo borracho.py\n",
    "import random\n",
    "\n",
    "# Creamos nuestra Clase borracho.\n",
    "class Borracho:\n",
    "    def __init__(self, nombre):\n",
    "        self.nombre = nombre\n",
    "\n",
    "\n",
    "# Creamos la clase BorrachoTradicional que extiende de Borracho.\n",
    "class BorrachoTradicional(Borracho):\n",
    "    def __init__(self, nombre):\n",
    "        super().__init__(nombre) # Utilizamos la clase Padre\n",
    "\n",
    "    # Y tendrá un método caminar que devolverá la dirección a la que ira.\n",
    "    def camina(self):\n",
    "        # Con random.choice elegimos un elemento aleatoriamente de la lista.\n",
    "        return random.choice([(0,0),(0, 1), (0, -1), (1, 0), (-1, 0),(-1,-1),(1,1),(1,-1),(-1,1)]) # Elige aleatoriamente  entre las tuplas definidas "
   ]
  },
  {
   "cell_type": "code",
   "execution_count": 59,
   "metadata": {},
   "outputs": [
    {
     "data": {
      "text/plain": [
       "(0, 1)"
      ]
     },
     "execution_count": 59,
     "metadata": {},
     "output_type": "execute_result"
    }
   ],
   "source": [
    "random.choice([(0,0),(0, 1), (0, -1), (1, 0), (-1, 0),(-1,-1),(1,1),(1,-1),(-1,1)])"
   ]
  },
  {
   "attachments": {},
   "cell_type": "markdown",
   "metadata": {},
   "source": [
    "### Coodenadas, Ubicaciones"
   ]
  },
  {
   "cell_type": "code",
   "execution_count": 60,
   "metadata": {},
   "outputs": [],
   "source": [
    "# La clase Coordenada guardara las coordenadas de nuestro agente\n",
    "class Coordenada:\n",
    "\n",
    "    # Definimos unas posiciones iniciales.\n",
    "    def __init__(self, x, y):\n",
    "        self.x = x\n",
    "        self.y = y\n",
    "\n",
    "    # Y cuando se mueve simplemente a las coordenadas actuales se les\n",
    "    # suma las coordenadas X e Y que ingresan como parámetros.\n",
    "    def mover(self, delta_x, delta_y):\n",
    "        return Coordenada(self.x + delta_x, self.y + delta_y)\n",
    "\n",
    "\n",
    "    # Y si queremos saber la distancia del agente con respecto a\n",
    "    # unas coordenadas, simplemente lo calculamos con el\n",
    "    # teorema de Pitágoras.\n",
    "    def distancia(self, otra_coordenada):\n",
    "        delta_x = self.x - otra_coordenada.x \n",
    "        delta_y = self.y - otra_coordenada.y \n",
    "\n",
    "        return (delta_x**2 + delta_y**2)**0.5"
   ]
  },
  {
   "attachments": {},
   "cell_type": "markdown",
   "metadata": {},
   "source": [
    "### Campo, acá irán las representacions de las Ubicaciones"
   ]
  },
  {
   "cell_type": "code",
   "execution_count": 61,
   "metadata": {},
   "outputs": [],
   "source": [
    "class Campo:\n",
    "\n",
    "    # Nuestra clase tendrá como atributo un diccionario.\n",
    "    def __init__(self):\n",
    "        self.coordenadas_de_borrachos = {}  # Acá van a ir las coordenadas de los borrachos, \n",
    "                                            # un diccionario de borrachos con sus coordenadas\n",
    "\n",
    "\n",
    "    # Añadimos un agente a nuestro diccionario, nuestra llave será\n",
    "    # nuestro parámetro \"borracho\" y tendrá el valor asignado \"coordenada\"\n",
    "    # que es una clase Coordenada creado en coordenada.py.\n",
    "    def anadir_borracho(self, borracho, coordenada):\n",
    "        self.coordenadas_de_borrachos[borracho] = coordenada\n",
    "\n",
    "\n",
    "    def mover_borracho(self, borracho):\n",
    "        # Al mover a nuestro agente ejecutamos el método camina de\n",
    "        # nuestra clase BorrachoTradicional creado en el archivo borracho.py,\n",
    "        # devolviendo la dirección hacia donde se movió.\n",
    "        delta_x, delta_y = borracho.camina()\n",
    "\n",
    "        # Obtenemos el objeto de Coordenada.\n",
    "        coordenada_actual = self.coordenadas_de_borrachos[borracho]\n",
    "\n",
    "        # Del objeto Coordenada ejecutamos el método mover con los parámetros\n",
    "        # que el objeto borracho genero. El resultado lo guardamos en\n",
    "        # nueva_coordenada.\n",
    "        nueva_coordenada = coordenada_actual.mover(delta_x, delta_y)\n",
    "\n",
    "        # El objeto guardado en nueva_coordenada ahora estará asociado\n",
    "        # a la llave de borracho.\n",
    "        self.coordenadas_de_borrachos[borracho] = nueva_coordenada\n",
    "\n",
    "\n",
    "    def obtener_coordenada(self, borracho):\n",
    "        return self.coordenadas_de_borrachos[borracho]"
   ]
  },
  {
   "attachments": {},
   "cell_type": "markdown",
   "metadata": {},
   "source": [
    "### Camino Aleatorio"
   ]
  },
  {
   "cell_type": "code",
   "execution_count": 62,
   "metadata": {},
   "outputs": [],
   "source": [
    "def caminata(campo, borracho, pasos):\n",
    "    # De la instancia Campo obtenemos las coordenadas actuales de la llave \"borracho\".\n",
    "    inicio = campo.obtener_coordenada(borracho)\n",
    "\n",
    "    # Repetiremos la misma cantidad de pasos definidos.\n",
    "    for _ in range(pasos):\n",
    "\n",
    "        # De la instancia campo ejecutaremos mover_borracho.\n",
    "        campo.mover_borracho(borracho)\n",
    "\n",
    "    # Y devolveremos la distancia entre las coordenadas de la instancia\n",
    "    # inicio y campo.\n",
    "    return inicio.distancia(campo.obtener_coordenada(borracho))\n",
    "\n",
    "\n",
    "def simular_caminata(pasos, numero_de_intentos, tipo_de_borracho):\n",
    "\n",
    "    # Definimos los parámetros para crear una instancia de Campo.\n",
    "    borracho = tipo_de_borracho(nombre='Karl')\n",
    "    origen = Coordenada(0, 0)\n",
    "\n",
    "    # Creamos una lista que guardara las distancias en cada simulación.\n",
    "    distancias = []\n",
    "\n",
    "    # Por cada numero de intento.\n",
    "    for _ in range(numero_de_intentos): # Guion bajo significa que no usamos la variable pero sí el bucle\n",
    "\n",
    "        # Creamos una instancia de Campo.\n",
    "        campo = Campo()\n",
    "\n",
    "        # A nuestra instancia de Campo le damos la llave borracho y sus coordenadas de origen.\n",
    "        campo.anadir_borracho(borracho, origen)\n",
    "\n",
    "        # Obtenemos la distancia final de la simulación.\n",
    "        simulacion_caminata = caminata(campo, borracho, pasos)\n",
    "\n",
    "        # El resultado lo guardamos en la lista de distancias.\n",
    "        distancias.append(round(simulacion_caminata, 1))\n",
    "    \n",
    "    # Retornamos la lista de distancias.\n",
    "    return distancias"
   ]
  },
  {
   "cell_type": "code",
   "execution_count": 63,
   "metadata": {},
   "outputs": [
    {
     "data": {
      "text/html": [
       "    <style>\n",
       "        .bk-notebook-logo {\n",
       "            display: block;\n",
       "            width: 20px;\n",
       "            height: 20px;\n",
       "            background-image: url(data:image/png;base64,iVBORw0KGgoAAAANSUhEUgAAABQAAAAUCAYAAACNiR0NAAAABHNCSVQICAgIfAhkiAAAAAlwSFlzAAALEgAACxIB0t1+/AAAABx0RVh0U29mdHdhcmUAQWRvYmUgRmlyZXdvcmtzIENTNui8sowAAAOkSURBVDiNjZRtaJVlGMd/1/08zzln5zjP1LWcU9N0NkN8m2CYjpgQYQXqSs0I84OLIC0hkEKoPtiH3gmKoiJDU7QpLgoLjLIQCpEsNJ1vqUOdO7ppbuec5+V+rj4ctwzd8IIbbi6u+8f1539dt3A78eXC7QizUF7gyV1fD1Yqg4JWz84yffhm0qkFqBogB9rM8tZdtwVsPUhWhGcFJngGeWrPzHm5oaMmkfEg1usvLFyc8jLRqDOMru7AyC8saQr7GG7f5fvDeH7Ej8CM66nIF+8yngt6HWaKh7k49Soy9nXurCi1o3qUbS3zWfrYeQDTB/Qj6kX6Ybhw4B+bOYoLKCC9H3Nu/leUTZ1JdRWkkn2ldcCamzrcf47KKXdAJllSlxAOkRgyHsGC/zRday5Qld9DyoM4/q/rUoy/CXh3jzOu3bHUVZeU+DEn8FInkPBFlu3+nW3Nw0mk6vCDiWg8CeJaxEwuHS3+z5RgY+YBR6V1Z1nxSOfoaPa4LASWxxdNp+VWTk7+4vzaou8v8PN+xo+KY2xsw6une2frhw05CTYOmQvsEhjhWjn0bmXPjpE1+kplmmkP3suftwTubK9Vq22qKmrBhpY4jvd5afdRA3wGjFAgcnTK2s4hY0/GPNIb0nErGMCRxWOOX64Z8RAC4oCXdklmEvcL8o0BfkNK4lUg9HTl+oPlQxdNo3Mg4Nv175e/1LDGzZen30MEjRUtmXSfiTVu1kK8W4txyV6BMKlbgk3lMwYCiusNy9fVfvvwMxv8Ynl6vxoByANLTWplvuj/nF9m2+PDtt1eiHPBr1oIfhCChQMBw6Aw0UulqTKZdfVvfG7VcfIqLG9bcldL/+pdWTLxLUy8Qq38heUIjh4XlzZxzQm19lLFlr8vdQ97rjZVOLf8nclzckbcD4wxXMidpX30sFd37Fv/GtwwhzhxGVAprjbg0gCAEeIgwCZyTV2Z1REEW8O4py0wsjeloKoMr6iCY6dP92H6Vw/oTyICIthibxjm/DfN9lVz8IqtqKYLUXfoKVMVQVVJOElGjrnnUt9T9wbgp8AyYKaGlqingHZU/uG2NTZSVqwHQTWkx9hxjkpWDaCg6Ckj5qebgBVbT3V3NNXMSiWSDdGV3hrtzla7J+duwPOToIg42ChPQOQjspnSlp1V+Gjdged7+8UN5CRAV7a5EdFNwCjEaBR27b3W890TE7g24NAP/mMDXRWrGoFPQI9ls/MWO2dWFAar/xcOIImbbpA3zgAAAABJRU5ErkJggg==);\n",
       "        }\n",
       "    </style>\n",
       "    <div>\n",
       "        <a href=\"https://bokeh.org\" target=\"_blank\" class=\"bk-notebook-logo\"></a>\n",
       "        <span id=\"b6c90234-6a49-4504-98e1-aa5497290d3c\">Loading BokehJS ...</span>\n",
       "    </div>\n"
      ]
     },
     "metadata": {},
     "output_type": "display_data"
    },
    {
     "data": {
      "application/javascript": "'use strict';\n(function(root) {\n  function now() {\n    return new Date();\n  }\n\n  const force = true;\n\n  if (typeof root._bokeh_onload_callbacks === \"undefined\" || force === true) {\n    root._bokeh_onload_callbacks = [];\n    root._bokeh_is_loading = undefined;\n  }\n\nconst JS_MIME_TYPE = 'application/javascript';\n  const HTML_MIME_TYPE = 'text/html';\n  const EXEC_MIME_TYPE = 'application/vnd.bokehjs_exec.v0+json';\n  const CLASS_NAME = 'output_bokeh rendered_html';\n\n  /**\n   * Render data to the DOM node\n   */\n  function render(props, node) {\n    const script = document.createElement(\"script\");\n    node.appendChild(script);\n  }\n\n  /**\n   * Handle when an output is cleared or removed\n   */\n  function handleClearOutput(event, handle) {\n    function drop(id) {\n      const view = Bokeh.index.get_by_id(id)\n      if (view != null) {\n        view.model.document.clear()\n        Bokeh.index.delete(view)\n      }\n    }\n\n    const cell = handle.cell;\n\n    const id = cell.output_area._bokeh_element_id;\n    const server_id = cell.output_area._bokeh_server_id;\n\n    // Clean up Bokeh references\n    if (id != null) {\n      drop(id)\n    }\n\n    if (server_id !== undefined) {\n      // Clean up Bokeh references\n      const cmd_clean = \"from bokeh.io.state import curstate; print(curstate().uuid_to_server['\" + server_id + \"'].get_sessions()[0].document.roots[0]._id)\";\n      cell.notebook.kernel.execute(cmd_clean, {\n        iopub: {\n          output: function(msg) {\n            const id = msg.content.text.trim()\n            drop(id)\n          }\n        }\n      });\n      // Destroy server and session\n      const cmd_destroy = \"import bokeh.io.notebook as ion; ion.destroy_server('\" + server_id + \"')\";\n      cell.notebook.kernel.execute(cmd_destroy);\n    }\n  }\n\n  /**\n   * Handle when a new output is added\n   */\n  function handleAddOutput(event, handle) {\n    const output_area = handle.output_area;\n    const output = handle.output;\n\n    // limit handleAddOutput to display_data with EXEC_MIME_TYPE content only\n    if ((output.output_type != \"display_data\") || (!Object.prototype.hasOwnProperty.call(output.data, EXEC_MIME_TYPE))) {\n      return\n    }\n\n    const toinsert = output_area.element.find(\".\" + CLASS_NAME.split(' ')[0]);\n\n    if (output.metadata[EXEC_MIME_TYPE][\"id\"] !== undefined) {\n      toinsert[toinsert.length - 1].firstChild.textContent = output.data[JS_MIME_TYPE];\n      // store reference to embed id on output_area\n      output_area._bokeh_element_id = output.metadata[EXEC_MIME_TYPE][\"id\"];\n    }\n    if (output.metadata[EXEC_MIME_TYPE][\"server_id\"] !== undefined) {\n      const bk_div = document.createElement(\"div\");\n      bk_div.innerHTML = output.data[HTML_MIME_TYPE];\n      const script_attrs = bk_div.children[0].attributes;\n      for (let i = 0; i < script_attrs.length; i++) {\n        toinsert[toinsert.length - 1].firstChild.setAttribute(script_attrs[i].name, script_attrs[i].value);\n        toinsert[toinsert.length - 1].firstChild.textContent = bk_div.children[0].textContent\n      }\n      // store reference to server id on output_area\n      output_area._bokeh_server_id = output.metadata[EXEC_MIME_TYPE][\"server_id\"];\n    }\n  }\n\n  function register_renderer(events, OutputArea) {\n\n    function append_mime(data, metadata, element) {\n      // create a DOM node to render to\n      const toinsert = this.create_output_subarea(\n        metadata,\n        CLASS_NAME,\n        EXEC_MIME_TYPE\n      );\n      this.keyboard_manager.register_events(toinsert);\n      // Render to node\n      const props = {data: data, metadata: metadata[EXEC_MIME_TYPE]};\n      render(props, toinsert[toinsert.length - 1]);\n      element.append(toinsert);\n      return toinsert\n    }\n\n    /* Handle when an output is cleared or removed */\n    events.on('clear_output.CodeCell', handleClearOutput);\n    events.on('delete.Cell', handleClearOutput);\n\n    /* Handle when a new output is added */\n    events.on('output_added.OutputArea', handleAddOutput);\n\n    /**\n     * Register the mime type and append_mime function with output_area\n     */\n    OutputArea.prototype.register_mime_type(EXEC_MIME_TYPE, append_mime, {\n      /* Is output safe? */\n      safe: true,\n      /* Index of renderer in `output_area.display_order` */\n      index: 0\n    });\n  }\n\n  // register the mime type if in Jupyter Notebook environment and previously unregistered\n  if (root.Jupyter !== undefined) {\n    const events = require('base/js/events');\n    const OutputArea = require('notebook/js/outputarea').OutputArea;\n\n    if (OutputArea.prototype.mime_types().indexOf(EXEC_MIME_TYPE) == -1) {\n      register_renderer(events, OutputArea);\n    }\n  }\n  if (typeof (root._bokeh_timeout) === \"undefined\" || force === true) {\n    root._bokeh_timeout = Date.now() + 5000;\n    root._bokeh_failed_load = false;\n  }\n\n  const NB_LOAD_WARNING = {'data': {'text/html':\n     \"<div style='background-color: #fdd'>\\n\"+\n     \"<p>\\n\"+\n     \"BokehJS does not appear to have successfully loaded. If loading BokehJS from CDN, this \\n\"+\n     \"may be due to a slow or bad network connection. Possible fixes:\\n\"+\n     \"</p>\\n\"+\n     \"<ul>\\n\"+\n     \"<li>re-rerun `output_notebook()` to attempt to load from CDN again, or</li>\\n\"+\n     \"<li>use INLINE resources instead, as so:</li>\\n\"+\n     \"</ul>\\n\"+\n     \"<code>\\n\"+\n     \"from bokeh.resources import INLINE\\n\"+\n     \"output_notebook(resources=INLINE)\\n\"+\n     \"</code>\\n\"+\n     \"</div>\"}};\n\n  function display_loaded(error = null) {\n    const el = document.getElementById(\"b6c90234-6a49-4504-98e1-aa5497290d3c\");\n    if (el != null) {\n      const html = (() => {\n        if (typeof root.Bokeh === \"undefined\") {\n          if (error == null) {\n            return \"BokehJS is loading ...\";\n          } else {\n            return \"BokehJS failed to load.\";\n          }\n        } else {\n          const prefix = `BokehJS ${root.Bokeh.version}`;\n          if (error == null) {\n            return `${prefix} successfully loaded.`;\n          } else {\n            return `${prefix} <b>encountered errors</b> while loading and may not function as expected.`;\n          }\n        }\n      })();\n      el.innerHTML = html;\n\n      if (error != null) {\n        const wrapper = document.createElement(\"div\");\n        wrapper.style.overflow = \"auto\";\n        wrapper.style.height = \"5em\";\n        wrapper.style.resize = \"vertical\";\n        const content = document.createElement(\"div\");\n        content.style.fontFamily = \"monospace\";\n        content.style.whiteSpace = \"pre-wrap\";\n        content.style.backgroundColor = \"rgb(255, 221, 221)\";\n        content.textContent = error.stack ?? error.toString();\n        wrapper.append(content);\n        el.append(wrapper);\n      }\n    } else if (Date.now() < root._bokeh_timeout) {\n      setTimeout(() => display_loaded(error), 100);\n    }\n  }\n\n  function run_callbacks() {\n    try {\n      root._bokeh_onload_callbacks.forEach(function(callback) {\n        if (callback != null)\n          callback();\n      });\n    } finally {\n      delete root._bokeh_onload_callbacks\n    }\n    console.debug(\"Bokeh: all callbacks have finished\");\n  }\n\n  function load_libs(css_urls, js_urls, callback) {\n    if (css_urls == null) css_urls = [];\n    if (js_urls == null) js_urls = [];\n\n    root._bokeh_onload_callbacks.push(callback);\n    if (root._bokeh_is_loading > 0) {\n      console.debug(\"Bokeh: BokehJS is being loaded, scheduling callback at\", now());\n      return null;\n    }\n    if (js_urls == null || js_urls.length === 0) {\n      run_callbacks();\n      return null;\n    }\n    console.debug(\"Bokeh: BokehJS not loaded, scheduling load and callback at\", now());\n    root._bokeh_is_loading = css_urls.length + js_urls.length;\n\n    function on_load() {\n      root._bokeh_is_loading--;\n      if (root._bokeh_is_loading === 0) {\n        console.debug(\"Bokeh: all BokehJS libraries/stylesheets loaded\");\n        run_callbacks()\n      }\n    }\n\n    function on_error(url) {\n      console.error(\"failed to load \" + url);\n    }\n\n    for (let i = 0; i < css_urls.length; i++) {\n      const url = css_urls[i];\n      const element = document.createElement(\"link\");\n      element.onload = on_load;\n      element.onerror = on_error.bind(null, url);\n      element.rel = \"stylesheet\";\n      element.type = \"text/css\";\n      element.href = url;\n      console.debug(\"Bokeh: injecting link tag for BokehJS stylesheet: \", url);\n      document.body.appendChild(element);\n    }\n\n    for (let i = 0; i < js_urls.length; i++) {\n      const url = js_urls[i];\n      const element = document.createElement('script');\n      element.onload = on_load;\n      element.onerror = on_error.bind(null, url);\n      element.async = false;\n      element.src = url;\n      console.debug(\"Bokeh: injecting script tag for BokehJS library: \", url);\n      document.head.appendChild(element);\n    }\n  };\n\n  function inject_raw_css(css) {\n    const element = document.createElement(\"style\");\n    element.appendChild(document.createTextNode(css));\n    document.body.appendChild(element);\n  }\n\n  const js_urls = [\"https://cdn.bokeh.org/bokeh/release/bokeh-3.4.1.min.js\", \"https://cdn.bokeh.org/bokeh/release/bokeh-gl-3.4.1.min.js\", \"https://cdn.bokeh.org/bokeh/release/bokeh-widgets-3.4.1.min.js\", \"https://cdn.bokeh.org/bokeh/release/bokeh-tables-3.4.1.min.js\", \"https://cdn.bokeh.org/bokeh/release/bokeh-mathjax-3.4.1.min.js\"];\n  const css_urls = [];\n\n  const inline_js = [    function(Bokeh) {\n      Bokeh.set_log_level(\"info\");\n    },\nfunction(Bokeh) {\n    }\n  ];\n\n  function run_inline_js() {\n    if (root.Bokeh !== undefined || force === true) {\n      try {\n            for (let i = 0; i < inline_js.length; i++) {\n      inline_js[i].call(root, root.Bokeh);\n    }\n\n      } catch (error) {display_loaded(error);throw error;\n      }if (force === true) {\n        display_loaded();\n      }} else if (Date.now() < root._bokeh_timeout) {\n      setTimeout(run_inline_js, 100);\n    } else if (!root._bokeh_failed_load) {\n      console.log(\"Bokeh: BokehJS failed to load within specified timeout.\");\n      root._bokeh_failed_load = true;\n    } else if (force !== true) {\n      const cell = $(document.getElementById(\"b6c90234-6a49-4504-98e1-aa5497290d3c\")).parents('.cell').data().cell;\n      cell.output_area.append_execute_result(NB_LOAD_WARNING)\n    }\n  }\n\n  if (root._bokeh_is_loading === 0) {\n    console.debug(\"Bokeh: BokehJS loaded, going straight to plotting\");\n    run_inline_js();\n  } else {\n    load_libs(css_urls, js_urls, function() {\n      console.debug(\"Bokeh: BokehJS plotting callback run at\", now());\n      run_inline_js();\n    });\n  }\n}(window));",
      "application/vnd.bokehjs_load.v0+json": ""
     },
     "metadata": {},
     "output_type": "display_data"
    }
   ],
   "source": [
    "# Importamos bokeh para generar un gráfico con nuestros resultados.\n",
    "from bokeh.plotting import figure, show\n",
    "from bokeh.models import Legend\n",
    "\n",
    "# Show plot in notebook, esto me sirve para mostrar la gráfica en el notebook y no abrir el navegador automáticamente.\n",
    "from bokeh.io import output_notebook\n",
    "output_notebook()\n",
    "\n",
    "def graficar(x, y):\n",
    "    # Creamos una instancia de figure, con su titulo y las etiquetas de los ejes.\n",
    "    grafica = figure(title='Camino aleatorio', x_axis_label='pasos', y_axis_label='distancia')\n",
    "\n",
    "    # # Ingresamos los datos de X e Y.\n",
    "    # grafica.line(x, y, Legend='distancia media')\n",
    "    # # Creamos una leyenda y la añadimos a la gráfica\n",
    "    leyenda = Legend(items=[(\"distancia media\", [grafica.line(x, y)])])\n",
    "    grafica.add_layout(leyenda)\n",
    "\n",
    "    # Generamos una gráfica en HTML.\n",
    "    show(grafica)"
   ]
  },
  {
   "cell_type": "code",
   "execution_count": 64,
   "metadata": {},
   "outputs": [],
   "source": [
    "def main(distancias_de_caminata, numero_de_intentos, tipo_de_borracho):\n",
    "\n",
    "    # Creamos una lista que guardara el promedio de cada caminata.\n",
    "    distancias_media_por_caminata = [] # Esto se usará como parámetro para graficar\n",
    "\n",
    "    # Por cada ítem en nuestras series de caminata.\n",
    "    for pasos in distancias_de_caminata:\n",
    "\n",
    "        # Guardamos las distancias que generan todas las simulaciones definido en numero_de_intentos.\n",
    "        distancias = simular_caminata(pasos, numero_de_intentos, tipo_de_borracho)\n",
    "\n",
    "        # De la lista de distancias obtenemos la distancia promedio.\n",
    "        distancia_media = round(sum(distancias) / len(distancias), 4)\n",
    "\n",
    "        # De la lista de distancias obtenemos el máximo valor.\n",
    "        distancia_maxima = max(distancias)\n",
    "\n",
    "        # De la lista de distancias obtenemos el menor valor.\n",
    "        distancia_minima = min(distancias)\n",
    "\n",
    "        # Guardamos el promedio de la caminata en la lista distancias_media_por_caminata.\n",
    "        distancias_media_por_caminata.append(distancia_media)\n",
    "\n",
    "        # Imprimimos los datos de la caminata actual.\n",
    "        print(f'{tipo_de_borracho.__name__} caminata aleatoria de {pasos} pasos')\n",
    "        print(f'Media respecto del Origen = {distancia_media}')\n",
    "        print(f'Max respecto del Origen = {distancia_maxima}')\n",
    "        print(f'Min respecto del Origen = {distancia_minima} \\n')\n",
    "\n",
    "    # Generamos un gráfico con la información de las distancias finales según la cantidad de pasos.\n",
    "    graficar(distancias_de_caminata, distancias_media_por_caminata) # graficar(x,y)"
   ]
  },
  {
   "cell_type": "code",
   "execution_count": 65,
   "metadata": {},
   "outputs": [
    {
     "name": "stdout",
     "output_type": "stream",
     "text": [
      "BorrachoTradicional caminata aleatoria de 10 pasos\n",
      "Media respecto del Origen = 3.249\n",
      "Max respecto del Origen = 7.6\n",
      "Min respecto del Origen = 0.0 \n",
      "\n",
      "BorrachoTradicional caminata aleatoria de 100 pasos\n",
      "Media respecto del Origen = 10.83\n",
      "Max respecto del Origen = 24.5\n",
      "Min respecto del Origen = 0.0 \n",
      "\n",
      "BorrachoTradicional caminata aleatoria de 1000 pasos\n",
      "Media respecto del Origen = 33.288\n",
      "Max respecto del Origen = 83.5\n",
      "Min respecto del Origen = 1.0 \n",
      "\n",
      "BorrachoTradicional caminata aleatoria de 10000 pasos\n",
      "Media respecto del Origen = 104.586\n",
      "Max respecto del Origen = 291.3\n",
      "Min respecto del Origen = 4.0 \n",
      "\n"
     ]
    },
    {
     "data": {
      "text/html": [
       "\n",
       "  <div id=\"cb96f2d2-d630-49f9-af46-4acf837f3121\" data-root-id=\"p1636\" style=\"display: contents;\"></div>\n"
      ]
     },
     "metadata": {},
     "output_type": "display_data"
    },
    {
     "data": {
      "application/javascript": "(function(root) {\n  function embed_document(root) {\n  const docs_json = {\"0879a5e3-943b-449a-8105-5586ee3da87c\":{\"version\":\"3.4.1\",\"title\":\"Bokeh Application\",\"roots\":[{\"type\":\"object\",\"name\":\"Figure\",\"id\":\"p1636\",\"attributes\":{\"x_range\":{\"type\":\"object\",\"name\":\"DataRange1d\",\"id\":\"p1637\"},\"y_range\":{\"type\":\"object\",\"name\":\"DataRange1d\",\"id\":\"p1638\"},\"x_scale\":{\"type\":\"object\",\"name\":\"LinearScale\",\"id\":\"p1646\"},\"y_scale\":{\"type\":\"object\",\"name\":\"LinearScale\",\"id\":\"p1647\"},\"title\":{\"type\":\"object\",\"name\":\"Title\",\"id\":\"p1639\",\"attributes\":{\"text\":\"Camino aleatorio\"}},\"renderers\":[{\"type\":\"object\",\"name\":\"GlyphRenderer\",\"id\":\"p1675\",\"attributes\":{\"data_source\":{\"type\":\"object\",\"name\":\"ColumnDataSource\",\"id\":\"p1669\",\"attributes\":{\"selected\":{\"type\":\"object\",\"name\":\"Selection\",\"id\":\"p1670\",\"attributes\":{\"indices\":[],\"line_indices\":[]}},\"selection_policy\":{\"type\":\"object\",\"name\":\"UnionRenderers\",\"id\":\"p1671\"},\"data\":{\"type\":\"map\",\"entries\":[[\"x\",[10,100,1000,10000]],[\"y\",[3.249,10.83,33.288,104.586]]]}}},\"view\":{\"type\":\"object\",\"name\":\"CDSView\",\"id\":\"p1676\",\"attributes\":{\"filter\":{\"type\":\"object\",\"name\":\"AllIndices\",\"id\":\"p1677\"}}},\"glyph\":{\"type\":\"object\",\"name\":\"Line\",\"id\":\"p1672\",\"attributes\":{\"x\":{\"type\":\"field\",\"field\":\"x\"},\"y\":{\"type\":\"field\",\"field\":\"y\"},\"line_color\":\"#1f77b4\"}},\"nonselection_glyph\":{\"type\":\"object\",\"name\":\"Line\",\"id\":\"p1673\",\"attributes\":{\"x\":{\"type\":\"field\",\"field\":\"x\"},\"y\":{\"type\":\"field\",\"field\":\"y\"},\"line_color\":\"#1f77b4\",\"line_alpha\":0.1}},\"muted_glyph\":{\"type\":\"object\",\"name\":\"Line\",\"id\":\"p1674\",\"attributes\":{\"x\":{\"type\":\"field\",\"field\":\"x\"},\"y\":{\"type\":\"field\",\"field\":\"y\"},\"line_color\":\"#1f77b4\",\"line_alpha\":0.2}}}}],\"toolbar\":{\"type\":\"object\",\"name\":\"Toolbar\",\"id\":\"p1645\",\"attributes\":{\"tools\":[{\"type\":\"object\",\"name\":\"PanTool\",\"id\":\"p1658\"},{\"type\":\"object\",\"name\":\"WheelZoomTool\",\"id\":\"p1659\",\"attributes\":{\"renderers\":\"auto\"}},{\"type\":\"object\",\"name\":\"BoxZoomTool\",\"id\":\"p1660\",\"attributes\":{\"overlay\":{\"type\":\"object\",\"name\":\"BoxAnnotation\",\"id\":\"p1661\",\"attributes\":{\"syncable\":false,\"level\":\"overlay\",\"visible\":false,\"left\":{\"type\":\"number\",\"value\":\"nan\"},\"right\":{\"type\":\"number\",\"value\":\"nan\"},\"top\":{\"type\":\"number\",\"value\":\"nan\"},\"bottom\":{\"type\":\"number\",\"value\":\"nan\"},\"left_units\":\"canvas\",\"right_units\":\"canvas\",\"top_units\":\"canvas\",\"bottom_units\":\"canvas\",\"line_color\":\"black\",\"line_alpha\":1.0,\"line_width\":2,\"line_dash\":[4,4],\"fill_color\":\"lightgrey\",\"fill_alpha\":0.5}}}},{\"type\":\"object\",\"name\":\"SaveTool\",\"id\":\"p1666\"},{\"type\":\"object\",\"name\":\"ResetTool\",\"id\":\"p1667\"},{\"type\":\"object\",\"name\":\"HelpTool\",\"id\":\"p1668\"}]}},\"left\":[{\"type\":\"object\",\"name\":\"LinearAxis\",\"id\":\"p1653\",\"attributes\":{\"ticker\":{\"type\":\"object\",\"name\":\"BasicTicker\",\"id\":\"p1654\",\"attributes\":{\"mantissas\":[1,2,5]}},\"formatter\":{\"type\":\"object\",\"name\":\"BasicTickFormatter\",\"id\":\"p1655\"},\"axis_label\":\"distancia\",\"major_label_policy\":{\"type\":\"object\",\"name\":\"AllLabels\",\"id\":\"p1656\"}}}],\"below\":[{\"type\":\"object\",\"name\":\"LinearAxis\",\"id\":\"p1648\",\"attributes\":{\"ticker\":{\"type\":\"object\",\"name\":\"BasicTicker\",\"id\":\"p1649\",\"attributes\":{\"mantissas\":[1,2,5]}},\"formatter\":{\"type\":\"object\",\"name\":\"BasicTickFormatter\",\"id\":\"p1650\"},\"axis_label\":\"pasos\",\"major_label_policy\":{\"type\":\"object\",\"name\":\"AllLabels\",\"id\":\"p1651\"}}}],\"center\":[{\"type\":\"object\",\"name\":\"Grid\",\"id\":\"p1652\",\"attributes\":{\"axis\":{\"id\":\"p1648\"}}},{\"type\":\"object\",\"name\":\"Grid\",\"id\":\"p1657\",\"attributes\":{\"dimension\":1,\"axis\":{\"id\":\"p1653\"}}},{\"type\":\"object\",\"name\":\"Legend\",\"id\":\"p1678\",\"attributes\":{\"items\":[{\"type\":\"object\",\"name\":\"LegendItem\",\"id\":\"p1679\",\"attributes\":{\"label\":{\"type\":\"value\",\"value\":\"distancia media\"},\"renderers\":[{\"id\":\"p1675\"}]}}]}}]}}]}};\n  const render_items = [{\"docid\":\"0879a5e3-943b-449a-8105-5586ee3da87c\",\"roots\":{\"p1636\":\"cb96f2d2-d630-49f9-af46-4acf837f3121\"},\"root_ids\":[\"p1636\"]}];\n  void root.Bokeh.embed.embed_items_notebook(docs_json, render_items);\n  }\n  if (root.Bokeh !== undefined) {\n    embed_document(root);\n  } else {\n    let attempts = 0;\n    const timer = setInterval(function(root) {\n      if (root.Bokeh !== undefined) {\n        clearInterval(timer);\n        embed_document(root);\n      } else {\n        attempts++;\n        if (attempts > 100) {\n          clearInterval(timer);\n          console.log(\"Bokeh: ERROR: Unable to run BokehJS code because BokehJS library is missing\");\n        }\n      }\n    }, 10, root)\n  }\n})(window);",
      "application/vnd.bokehjs_exec.v0+json": ""
     },
     "metadata": {
      "application/vnd.bokehjs_exec.v0+json": {
       "id": "p1636"
      }
     },
     "output_type": "display_data"
    }
   ],
   "source": [
    "if __name__ == '__main__':\n",
    "    # Definamos cuantos pasos queremos que camine en cada serie.\n",
    "    distancias_de_caminata = [10, 100, 1000, 10000]\n",
    "    \n",
    "    # Determinamos la cantidad de simulaciones que generara en cada serie.\n",
    "    numero_de_intentos = 100\n",
    "\n",
    "    # Ejecutamos el método main con los parámetros definidos anteriormente\n",
    "    # y además pasamos la clase BorrachoTradicional\n",
    "    main(distancias_de_caminata, numero_de_intentos, BorrachoTradicional)"
   ]
  },
  {
   "attachments": {},
   "cell_type": "markdown",
   "metadata": {},
   "source": [
    "### Visualización de Caminos Aleatorios"
   ]
  },
  {
   "cell_type": "code",
   "execution_count": 66,
   "metadata": {},
   "outputs": [],
   "source": [
    "# Creamos un archivo borracho.py\n",
    "import random\n",
    "\n",
    "# Creamos nuestra Clase borracho.\n",
    "class Borracho:\n",
    "\n",
    "    def __init__(self, nombre):\n",
    "        self.nombre = nombre\n",
    "\n",
    "\n",
    "# Creamos la clase BorrachoTradicional que extiende de Borracho.\n",
    "class BorrachoTradicional(Borracho):\n",
    "\n",
    "    def __init__(self, nombre):\n",
    "        super().__init__(nombre)\n",
    "\n",
    "    # Y tendrá un método caminar que devolverá la dirección a la que ira.\n",
    "    def camina(self):\n",
    "        # Con random.choice elegimos un elemento aleatoriamente de la lista.\n",
    "        return random.choice([(0, 1), (0, -1), (1, 0), (-1, 0)])"
   ]
  },
  {
   "cell_type": "code",
   "execution_count": 67,
   "metadata": {},
   "outputs": [
    {
     "name": "stdout",
     "output_type": "stream",
     "text": [
      "BorrachoTradicional caminata aleatoria de 10 pasos\n",
      "Media = 2.754\n",
      "Max = 7.1\n",
      "Min = 0.0\n",
      "BorrachoTradicional caminata aleatoria de 100 pasos\n",
      "Media = 9.132\n",
      "Max = 23.0\n",
      "Min = 2.8\n",
      "BorrachoTradicional caminata aleatoria de 1000 pasos\n",
      "Media = 29.931\n",
      "Max = 77.0\n",
      "Min = 1.4\n",
      "BorrachoTradicional caminata aleatoria de 10000 pasos\n",
      "Media = 90.163\n",
      "Max = 207.0\n",
      "Min = 5.8\n"
     ]
    },
    {
     "data": {
      "text/html": [
       "\n",
       "  <div id=\"e8cc2926-18a6-4092-bb97-2631282aad4c\" data-root-id=\"p1680\" style=\"display: contents;\"></div>\n"
      ]
     },
     "metadata": {},
     "output_type": "display_data"
    },
    {
     "data": {
      "application/javascript": "(function(root) {\n  function embed_document(root) {\n  const docs_json = {\"7fce76cd-703b-4043-b959-d841d6fb5214\":{\"version\":\"3.4.1\",\"title\":\"Bokeh Application\",\"roots\":[{\"type\":\"object\",\"name\":\"Figure\",\"id\":\"p1680\",\"attributes\":{\"x_range\":{\"type\":\"object\",\"name\":\"DataRange1d\",\"id\":\"p1681\"},\"y_range\":{\"type\":\"object\",\"name\":\"DataRange1d\",\"id\":\"p1682\"},\"x_scale\":{\"type\":\"object\",\"name\":\"LinearScale\",\"id\":\"p1690\"},\"y_scale\":{\"type\":\"object\",\"name\":\"LinearScale\",\"id\":\"p1691\"},\"title\":{\"type\":\"object\",\"name\":\"Title\",\"id\":\"p1683\",\"attributes\":{\"text\":\"Camino aleatorio\"}},\"renderers\":[{\"type\":\"object\",\"name\":\"GlyphRenderer\",\"id\":\"p1719\",\"attributes\":{\"data_source\":{\"type\":\"object\",\"name\":\"ColumnDataSource\",\"id\":\"p1713\",\"attributes\":{\"selected\":{\"type\":\"object\",\"name\":\"Selection\",\"id\":\"p1714\",\"attributes\":{\"indices\":[],\"line_indices\":[]}},\"selection_policy\":{\"type\":\"object\",\"name\":\"UnionRenderers\",\"id\":\"p1715\"},\"data\":{\"type\":\"map\",\"entries\":[[\"x\",[10,100,1000,10000]],[\"y\",[2.754,9.132,29.931,90.163]]]}}},\"view\":{\"type\":\"object\",\"name\":\"CDSView\",\"id\":\"p1720\",\"attributes\":{\"filter\":{\"type\":\"object\",\"name\":\"AllIndices\",\"id\":\"p1721\"}}},\"glyph\":{\"type\":\"object\",\"name\":\"Line\",\"id\":\"p1716\",\"attributes\":{\"x\":{\"type\":\"field\",\"field\":\"x\"},\"y\":{\"type\":\"field\",\"field\":\"y\"},\"line_color\":\"#1f77b4\"}},\"nonselection_glyph\":{\"type\":\"object\",\"name\":\"Line\",\"id\":\"p1717\",\"attributes\":{\"x\":{\"type\":\"field\",\"field\":\"x\"},\"y\":{\"type\":\"field\",\"field\":\"y\"},\"line_color\":\"#1f77b4\",\"line_alpha\":0.1}},\"muted_glyph\":{\"type\":\"object\",\"name\":\"Line\",\"id\":\"p1718\",\"attributes\":{\"x\":{\"type\":\"field\",\"field\":\"x\"},\"y\":{\"type\":\"field\",\"field\":\"y\"},\"line_color\":\"#1f77b4\",\"line_alpha\":0.2}}}}],\"toolbar\":{\"type\":\"object\",\"name\":\"Toolbar\",\"id\":\"p1689\",\"attributes\":{\"tools\":[{\"type\":\"object\",\"name\":\"PanTool\",\"id\":\"p1702\"},{\"type\":\"object\",\"name\":\"WheelZoomTool\",\"id\":\"p1703\",\"attributes\":{\"renderers\":\"auto\"}},{\"type\":\"object\",\"name\":\"BoxZoomTool\",\"id\":\"p1704\",\"attributes\":{\"overlay\":{\"type\":\"object\",\"name\":\"BoxAnnotation\",\"id\":\"p1705\",\"attributes\":{\"syncable\":false,\"level\":\"overlay\",\"visible\":false,\"left\":{\"type\":\"number\",\"value\":\"nan\"},\"right\":{\"type\":\"number\",\"value\":\"nan\"},\"top\":{\"type\":\"number\",\"value\":\"nan\"},\"bottom\":{\"type\":\"number\",\"value\":\"nan\"},\"left_units\":\"canvas\",\"right_units\":\"canvas\",\"top_units\":\"canvas\",\"bottom_units\":\"canvas\",\"line_color\":\"black\",\"line_alpha\":1.0,\"line_width\":2,\"line_dash\":[4,4],\"fill_color\":\"lightgrey\",\"fill_alpha\":0.5}}}},{\"type\":\"object\",\"name\":\"SaveTool\",\"id\":\"p1710\"},{\"type\":\"object\",\"name\":\"ResetTool\",\"id\":\"p1711\"},{\"type\":\"object\",\"name\":\"HelpTool\",\"id\":\"p1712\"}]}},\"left\":[{\"type\":\"object\",\"name\":\"LinearAxis\",\"id\":\"p1697\",\"attributes\":{\"ticker\":{\"type\":\"object\",\"name\":\"BasicTicker\",\"id\":\"p1698\",\"attributes\":{\"mantissas\":[1,2,5]}},\"formatter\":{\"type\":\"object\",\"name\":\"BasicTickFormatter\",\"id\":\"p1699\"},\"axis_label\":\"distancia\",\"major_label_policy\":{\"type\":\"object\",\"name\":\"AllLabels\",\"id\":\"p1700\"}}}],\"below\":[{\"type\":\"object\",\"name\":\"LinearAxis\",\"id\":\"p1692\",\"attributes\":{\"ticker\":{\"type\":\"object\",\"name\":\"BasicTicker\",\"id\":\"p1693\",\"attributes\":{\"mantissas\":[1,2,5]}},\"formatter\":{\"type\":\"object\",\"name\":\"BasicTickFormatter\",\"id\":\"p1694\"},\"axis_label\":\"pasos\",\"major_label_policy\":{\"type\":\"object\",\"name\":\"AllLabels\",\"id\":\"p1695\"}}}],\"center\":[{\"type\":\"object\",\"name\":\"Grid\",\"id\":\"p1696\",\"attributes\":{\"axis\":{\"id\":\"p1692\"}}},{\"type\":\"object\",\"name\":\"Grid\",\"id\":\"p1701\",\"attributes\":{\"dimension\":1,\"axis\":{\"id\":\"p1697\"}}},{\"type\":\"object\",\"name\":\"Legend\",\"id\":\"p1722\",\"attributes\":{\"items\":[{\"type\":\"object\",\"name\":\"LegendItem\",\"id\":\"p1723\",\"attributes\":{\"label\":{\"type\":\"value\",\"value\":\"distancia media\"},\"renderers\":[{\"id\":\"p1719\"}]}}]}}]}}]}};\n  const render_items = [{\"docid\":\"7fce76cd-703b-4043-b959-d841d6fb5214\",\"roots\":{\"p1680\":\"e8cc2926-18a6-4092-bb97-2631282aad4c\"},\"root_ids\":[\"p1680\"]}];\n  void root.Bokeh.embed.embed_items_notebook(docs_json, render_items);\n  }\n  if (root.Bokeh !== undefined) {\n    embed_document(root);\n  } else {\n    let attempts = 0;\n    const timer = setInterval(function(root) {\n      if (root.Bokeh !== undefined) {\n        clearInterval(timer);\n        embed_document(root);\n      } else {\n        attempts++;\n        if (attempts > 100) {\n          clearInterval(timer);\n          console.log(\"Bokeh: ERROR: Unable to run BokehJS code because BokehJS library is missing\");\n        }\n      }\n    }, 10, root)\n  }\n})(window);",
      "application/vnd.bokehjs_exec.v0+json": ""
     },
     "metadata": {
      "application/vnd.bokehjs_exec.v0+json": {
       "id": "p1680"
      }
     },
     "output_type": "display_data"
    }
   ],
   "source": [
    "def caminata(campo, borracho, pasos):\n",
    "    inicio = campo.obtener_coordenada(borracho)\n",
    "\n",
    "    for _ in range(pasos):\n",
    "        campo.mover_borracho(borracho)\n",
    "\n",
    "    return inicio.distancia(campo.obtener_coordenada(borracho))\n",
    "\n",
    "\n",
    "def simular_caminata(pasos, numero_de_intentos, tipo_de_borracho):\n",
    "    borracho = tipo_de_borracho(nombre='David')\n",
    "    origen = Coordenada(0, 0)\n",
    "    distancias = []\n",
    "\n",
    "    for _ in range(numero_de_intentos):\n",
    "        campo = Campo()\n",
    "        campo.anadir_borracho(borracho, origen)\n",
    "        simulacion_caminata = caminata(campo, borracho, pasos)\n",
    "        distancias.append(round(simulacion_caminata, 1))\n",
    "\n",
    "    return distancias\n",
    "\n",
    "def graficar(x, y):\n",
    "    grafica = figure(title='Camino aleatorio', x_axis_label='pasos', y_axis_label='distancia')\n",
    "    grafica.line(x, y, legend_label='distancia media')\n",
    "\n",
    "    show(grafica)\n",
    "\n",
    "def main(distancias_de_caminata, numero_de_intentos, tipo_de_borracho):\n",
    "    distancias_media_por_caminata = []\n",
    "\n",
    "    for pasos in distancias_de_caminata:\n",
    "        distancias = simular_caminata(pasos, numero_de_intentos, tipo_de_borracho)\n",
    "        distancia_media = round(sum(distancias) / len(distancias), 4)\n",
    "        distancia_maxima = max(distancias)\n",
    "        distancia_minima = min(distancias)\n",
    "        distancias_media_por_caminata.append(distancia_media)\n",
    "        print(f'{tipo_de_borracho.__name__} caminata aleatoria de {pasos} pasos')\n",
    "        print(f'Media = {distancia_media}')\n",
    "        print(f'Max = {distancia_maxima}')\n",
    "        print(f'Min = {distancia_minima}')\n",
    "    graficar(distancias_de_caminata, distancias_media_por_caminata)\n",
    "\n",
    "if __name__ == '__main__':\n",
    "    distancias_de_caminata = [10, 100, 1000, 10000]\n",
    "    numero_de_intentos = 100\n",
    "\n",
    "    main(distancias_de_caminata, numero_de_intentos, BorrachoTradicional)"
   ]
  },
  {
   "cell_type": "code",
   "execution_count": 68,
   "metadata": {},
   "outputs": [],
   "source": [
    "class Campo:\n",
    "\n",
    "    def __init__(self):\n",
    "        self.coordenadas_de_borrachos = {}\n",
    "\n",
    "    def anadir_borracho(self, borracho, coordenada):\n",
    "        self.coordenadas_de_borrachos[borracho] = coordenada\n",
    "\n",
    "    def mover_borracho(self, borracho):\n",
    "        delta_x, delta_y = borracho.camina()\n",
    "        coordenada_actual = self.coordenadas_de_borrachos[borracho]\n",
    "        nueva_coordenada = coordenada_actual.mover(delta_x, delta_y)\n",
    "        self.coordenadas_de_borrachos[borracho] = nueva_coordenada\n",
    "\n",
    "    def obtener_coordenada(self, borracho):\n",
    "        return self.coordenadas_de_borrachos[borracho]"
   ]
  },
  {
   "cell_type": "code",
   "execution_count": 69,
   "metadata": {},
   "outputs": [],
   "source": [
    "class Coordenada:\n",
    "\n",
    "    def __init__(self, x, y):\n",
    "        self.x = x\n",
    "        self.y = y\n",
    "\n",
    "    def mover(self, delta_x, delta_y):\n",
    "        return Coordenada(self.x + delta_x, self.y + delta_y)\n",
    "\n",
    "    def distancia(self, otra_coordenada):\n",
    "        delta_x = self.x - otra_coordenada.x \n",
    "        delta_y = self.y - otra_coordenada.y \n",
    "\n",
    "        return (delta_x**2 + delta_y**2)**0.5"
   ]
  },
  {
   "cell_type": "code",
   "execution_count": 70,
   "metadata": {},
   "outputs": [
    {
     "data": {
      "text/html": [
       "\n",
       "  <div id=\"dc61e4f3-85ea-4b8d-999f-e401695aa42d\" data-root-id=\"p1724\" style=\"display: contents;\"></div>\n"
      ]
     },
     "metadata": {},
     "output_type": "display_data"
    },
    {
     "data": {
      "application/javascript": "(function(root) {\n  function embed_document(root) {\n  const docs_json = {\"7e3e15d8-e747-4c1e-93a9-8851fa51e75b\":{\"version\":\"3.4.1\",\"title\":\"Bokeh Application\",\"roots\":[{\"type\":\"object\",\"name\":\"Figure\",\"id\":\"p1724\",\"attributes\":{\"x_range\":{\"type\":\"object\",\"name\":\"DataRange1d\",\"id\":\"p1725\"},\"y_range\":{\"type\":\"object\",\"name\":\"DataRange1d\",\"id\":\"p1726\"},\"x_scale\":{\"type\":\"object\",\"name\":\"LinearScale\",\"id\":\"p1734\"},\"y_scale\":{\"type\":\"object\",\"name\":\"LinearScale\",\"id\":\"p1735\"},\"title\":{\"type\":\"object\",\"name\":\"Title\",\"id\":\"p1727\",\"attributes\":{\"text\":\"Random Walks\"}},\"renderers\":[{\"type\":\"object\",\"name\":\"GlyphRenderer\",\"id\":\"p1763\",\"attributes\":{\"name\":\"juan\",\"data_source\":{\"type\":\"object\",\"name\":\"ColumnDataSource\",\"id\":\"p1757\",\"attributes\":{\"selected\":{\"type\":\"object\",\"name\":\"Selection\",\"id\":\"p1758\",\"attributes\":{\"indices\":[],\"line_indices\":[]}},\"selection_policy\":{\"type\":\"object\",\"name\":\"UnionRenderers\",\"id\":\"p1759\"},\"data\":{\"type\":\"map\",\"entries\":[[\"x\",[0,0,0,0,0,-1,0,1,0,-1,-1,-1,-1,-1,-2,-1,-2,-3,-3,-3,-4,-4,-3,-3,-3,-3,-3,-3,-2,-2,-1,-1,0,0,-1,-1,-2,-3,-4,-3,-3,-3,-4,-3,-3,-3,-3,-2,-2,-1,-1,-2,-2,-3,-2,-2,-2,-2,-1,-2,-3,-3,-4,-4,-4,-5,-5,-6,-5,-4,-4,-4,-4,-3,-4,-3,-2,-2,-3,-3,-3,-2,-3,-4,-5,-6,-5,-5,-5,-4,-4,-5,-4,-4,-5,-5,-5,-4,-4,-5,-5,-5,-5,-5,-5,-4,-3,-4,-4,-5,-4,-4,-5,-4,-4,-4,-4,-4,-4,-3,-3,-4,-3,-2,-1,0,0,1,1,0,0,1,1,0,-1,-2,-2,-1,-1,-2,-1,-1,-1,-1,-2,-2,-2,-2,-1,-1,-1,0,1,1,1,2,1,1,1,1,1,2,1,1,1,2,3,3,3,2,1,0,0,1,2,2,2,1,1,2,3,4,4,4,3,2,3,2,2,2,2,2,2,1,2,3,3,3,2,1,1,1,2,3,3,4,3,4,3,3,3,3,4,3,2,3,2,1,0,-1,-1,-1,-2,-2,-2,-2,-2,-1,-2,-2,-2,-1,-2,-3,-3,-3,-2,-2,-2,-2,-2,-3,-3,-3,-4,-3,-2,-1,-1,-2,-2,-2,-2,-3,-3,-2,-2,-1,0,-1,-2,-2,-3,-3,-4,-3,-3,-4,-3,-3,-3,-3,-3,-4,-5,-4,-4,-3,-3,-4,-5,-6,-5,-5,-6,-6,-6,-6,-5,-6,-6,-7,-7,-8,-9,-8,-8,-8,-8,-8,-8,-7,-7,-8,-7,-6,-7,-8,-8,-9,-8,-7,-6,-7,-8,-8,-9,-9,-9,-10,-10,-10,-10,-10,-11,-11,-11,-10,-10,-10,-11,-12,-11,-12,-11,-11,-10,-11,-11,-11,-12,-12,-13,-14,-15,-15,-14,-13,-12,-13,-13,-14,-14,-13,-12,-12,-13,-13,-14,-14,-13,-13,-13,-13,-12,-12,-11,-11,-11,-12,-12,-12,-11,-11,-12,-11,-12,-12,-13,-13,-14,-14,-14,-13,-14,-14,-15,-15,-14,-15,-15,-15,-15,-16,-17,-17,-17,-18,-18,-17,-18,-19,-20,-21,-21,-22,-21,-22,-21,-20,-20,-19,-20,-20,-19,-20,-20,-21,-21,-20,-20,-20,-21,-20,-20,-20,-20,-21,-22,-22,-21,-22,-22,-22,-22,-22,-22,-23,-22,-22,-21,-21,-20,-19,-19,-19,-19,-18,-17,-16,-16,-16,-15,-14,-15,-15,-15,-15,-15,-14,-13,-14,-14,-14,-15,-15,-15,-15,-15,-14,-14,-14,-14,-15,-15,-14,-14,-13,-13,-12,-12,-11,-10,-10,-9,-9,-10,-11,-10,-10,-11,-12,-13,-13,-13,-13,-12,-11,-11,-11,-11,-11,-11,-11,-11,-11,-11,-11,-11,-11,-10,-11,-11,-11,-11,-12,-12,-12,-12,-13,-13,-12,-12,-12,-12,-12,-13,-13,-13,-13,-14,-14,-14,-14,-14,-14,-14,-13,-13,-13,-13,-13,-13,-13,-14,-13,-13,-14,-14,-15,-14,-14,-15,-15,-14,-14,-14,-15,-15,-15,-14,-14,-14,-14,-14,-14,-13,-13,-13,-14,-13,-12,-11,-11,-12,-12,-12,-11,-12,-12,-12,-11,-11,-12,-12,-13,-12,-12,-11,-11,-12,-12,-13,-13,-13,-14,-14,-15,-15,-15,-16,-17,-18,-17,-17,-16,-16,-16,-15,-14,-13,-12,-12,-12,-11,-10,-10,-10,-10,-11,-11,-11,-11,-10,-10,-10,-10,-10,-9,-9,-9,-9,-10,-10,-10,-11,-11,-10,-10,-11,-10,-10,-9,-9,-9,-10,-10,-10,-9,-8,-7,-6,-6,-6,-5,-4,-5,-6,-5,-6,-6,-6,-7,-7,-6,-6,-6,-5,-5,-6,-6,-5,-5,-6,-6,-5,-5,-6,-6,-6,-7,-8,-8,-9,-9,-9,-9,-9,-9,-8,-8,-9,-9,-9,-9,-9,-8,-8,-8,-8,-8,-8,-7,-6,-6,-6,-6,-5,-6,-5,-4,-4,-4,-4,-3,-2,-2,-2,-1,0,0,-1,-2,-3,-3,-3,-3,-3,-3,-4,-3,-2,-3,-3,-3,-4,-5,-5,-5,-5,-5,-5,-6,-6,-6,-5,-4,-4,-5,-6,-7,-7,-7,-6,-6,-7,-6,-6,-5,-5,-4,-5,-5,-4,-5,-5,-5,-5,-6,-6,-6,-6,-5,-6,-6,-6,-6,-7,-7,-7,-7,-7,-6,-6,-5,-5,-6,-7,-7,-8,-9,-10,-9,-10,-9,-8,-9,-9,-8,-8,-7,-6,-6,-6,-5,-5,-4,-3,-4,-4,-3,-3,-3,-2,-1,0,0,0,0,-1,0,0,1,1,1,0,1,1,1,2,1,0,1,2,1,1,2,2,2,2,3,3,2,2,2,2,2,2,1,1,0,0,-1,-1,-1,-1,-2,-3,-2,-3,-3,-2,-3,-3,-3,-2,-2,-2,-2,-3,-3,-3,-3,-2,-2,-3,-3,-3,-3,-4,-3,-3,-2,-3,-4,-5,-5,-4,-4,-4,-5,-5,-4,-3,-3,-2,-2,-3,-2,-2,-2,-3,-3,-4,-5,-5,-4,-4,-4,-3,-2,-1,-1,-1,-2,-2,-2,-1,0,0,0,-1,-1,0,-1,-2,-3,-2,-1,0,1,0,-1,0,-1,-1,-1,-1,-1,-2,-1,-1,0,0,0,1,2,1,0,0,-1,-2,-1,-1,-1,-1,0,-1,-2,-2,-1,0,1,2,1,1,1,0,0,0,0,0,0,1,0,-1,0,-1,-2,-1,-2,-2,-1,-2,-2,-3,-3,-3,-4,-4,-3,-3,-3,-4,-3,-2,-2,-2,-2,-2,-2,-1,-2,-1,-1,-2,-3,-3,-4,-3,-3,-3,-3,-4,-5,-6,-7,-7,-8,-7,-8,-8,-8,-9,-9,-9,-10,-9,-9,-9,-8,-7,-7,-7,-7,-7,-7,-6,-6,-6,-7,-7,-7,-6,-5,-6,-5,-6,-6,-7,-7,-6,-6,-6,-6,-7,-8,-8,-9,-8,-9,-9,-9,-9,-8,-8,-9,-10,-9,-9,-10,-10,-9,-10,-10,-9,-8,-8,-7,-7,-8,-7,-7,-6,-5,-5,-4,-4,-4,-4,-3,-2,-1,-1,-1,-2,-2,-2,-3,-2,-2,-3,-2,-2,-3,-4,-5,-5,-5,-4,-4,-4,-4,-4,-4,-4,-3,-3,-4,-5,-5,-4,-4,-5,-6,-5,-6,-6,-6,-6,-6,-5,-4,-3,-4,-4,-5,-4,-5,-5,-5,-4,-3,-3,-3,-3,-3,-2,-1,-1,-1,-1,-2,-3,-2,-3,-3,-4,-3,-2,-2,-2,-2,-2,-2,-2,-2,-3,-3,-2,-2,-1,0,0,0,0,-1,-2,-2,-1,-1,-2,-2,-1,-1,-1,-2,-1,-2,-2,-1,0,0,1,2,3,3,4,4,3,4,4,3,3,3,4,4,4,5,4,4,5,6,6,5,6,6,5,6,5,4,4,5,4,5,5,5,6,7,7,6,6,6,6,5,4,4,4,5,5,6,6,6,6,7,7,7,7,6,6,5,6,6,7,6,5,5,4,3,4,4,4,5,4,3,3,3,2,2,3,3,4,4,5,5,5,5,4,4,5,6,7,6,5,5,5,5,6,5,5,4,3,4,4,3,3,2,1,1,1,1,1,2,2,2,2,1,1,0,0,0,0,1,0,-1,0,0,1,1,1,2,2,1,0,0,1,1,0,1,1,2,1,0,1,1,1,2,1,1,1,1,1,1,1,1,0,-1,0,1,2,2,1,0,-1,-1,-1,-1,-2,-1,-2,-1,-1,-1,-2,-1,-1,0,1,1,1,2,1,1,1,2,2,1,1,2,2,3,3,3,3,4,4,5,4,3,2,3,2,3,4,4,4,4,3,2,3,3,2,2,2,2,1,0,-1,-1,-1,-1,-1,-2,-2,-2,-2,-3,-4,-3,-2,-3,-2,-3,-4,-4,-3,-4,-4,-4,-5,-5,-5,-6,-6,-6,-7,-6,-5,-5,-4,-4,-4,-3,-3,-3,-3,-3,-2,-3,-2,-2,-2,-3,-3,-4,-5,-5,-6,-7,-8,-7,-6,-6,-6,-6,-5,-4,-5,-5,-6,-7,-8,-8,-8,-8,-8,-7,-7,-7,-6,-6,-6,-7,-7,-8,-9,-9,-9,-8,-8,-9,-10,-10,-10,-10,-10,-10,-10,-11,-10,-10,-10,-11,-10,-10,-9,-9,-8,-7,-6,-5,-5,-5,-6,-6,-6,-6,-6,-6,-6,-6,-5,-5,-4,-4,-4,-4,-4,-4,-3,-2,-2,-2,-1,-2,-3,-2,-2,-2,-1,-1,-1,-1,-1,0,0,1,2,2,3,4,4,4,4,5,5,4,4,3,2,2,3,4,4,5,5,5,6,5,4,5,5,5,6,5,5,5,5,5,4,4,5,6,6,5,6,5,5,5,5,5,6,5,4,4,4,4,4,3,3,3,4,4,4,5,4,4,4,5,6,6,6,6,7,7,7,7,6,5,5,6,6,7,7,7,6,6,6,6,6,6,6,6,7,7,8,8,8,7,7,7,7,8,7,7,8,8,7,6,6,6,5,6,5,5,4,4,5,5,4,4,5,5,4,5,4,4,4,4,4,4,4,3,2,3,3,4,5,6,5,4,3,3,3,4,3,3,3,2,1,0,1,1,2,3,2,2,3,2,2,2,1,1,1,1,0,0,1,2,1,1,1,1,1,0,0,0,0,-1,0,0,0,1,2,2,2,1,1,1,0,-1,0,-1,0,1,0,0,1,1,1,2,2,2,2,2,2,2,1,0,-1,-1,-2,-3,-2,-3,-2,-2,-1,-1,-2,-2,-1,-2,-2,-2,-1,0,-1,-2,-2,-2,-3,-4,-3,-3,-3,-2,-1,-2,-2,-3,-3,-3,-3,-2,-1,-1,-1,-1,-1,-1,-1,-1,-1,0,0,1,1,0,0,0,-1,0,1,2,2,1,1,1,1,1,1,0,-1,-2,-2,-2,-2,-3,-2,-2,-1,-1,-2,-3,-2,-3,-4,-4,-4,-3,-3,-2,-2,-2,-2,-2,-2,-1,-1,-1,-2,-2,-1,-2,-2,-2,-2,-1,-1,-1,-2,-2,-2,-2,-1,-1,-1,-1,-1,-2,-1,-1,-1,-1,-1,0,0,1,1,0,1,1,2,2,3,4,5,5,5,4,3,2,1,1,0,-1,0,0,0,0,0,0,-1,-1,0,1,1,1,2,2,3,3,2,3,2,1,1,2,2,1,1,0,0,0,0,0,0,0,1,2,2,2,1,1,1,2,1,0,0,0,0,0,0,1,1,0,0,0,1,0,0,0,0,0,1,1,1,1,0,0,0,0,0,-1,0,-1,-2,-1,-1,-2,-2,-3,-3,-3,-3,-3,-4,-3,-4,-4,-4,-5,-4,-5,-4,-3,-3,-3,-3,-3,-3,-2,-2,-2,-3,-2,-1,-2,-3,-3,-3,-4,-4,-4,-4,-3,-3,-2,-2,-1,-2,-3,-3,-4,-5,-6,-6,-5,-5,-5,-5,-5,-6,-7,-7,-7,-7,-7,-7,-7,-7,-7,-7,-7,-8,-8,-9,-10,-9,-8,-8,-9,-10,-10,-10,-10,-11,-11,-11,-11,-11,-12,-13,-14,-14,-14,-15,-15,-15,-15,-15,-14,-13,-13,-14,-14,-14,-15,-14,-15,-16,-16,-17,-18,-19,-19,-18,-18,-19,-19,-18,-18,-17,-17,-18,-19,-19,-19,-18,-17,-17,-17,-16,-15,-14,-14,-14,-15,-15,-14,-13,-12,-12,-12,-13,-13,-13,-13,-13,-14,-13,-13,-14,-14,-14,-14,-14,-15,-14,-13,-12,-13,-12,-11,-12,-12,-12,-12,-12,-13,-12,-13,-13,-14,-14,-13,-14,-15,-14,-14,-14,-15,-16,-16,-17,-18,-18,-19,-18,-19,-19,-19,-18,-19,-19,-18,-18,-17,-17,-17,-16,-15,-16,-17,-17,-17,-17,-16,-16,-15,-15,-15,-16,-16,-15,-15,-15,-16,-17,-17,-17,-16,-16,-15,-14,-14,-15,-15,-15,-15,-15,-15,-16,-16,-16,-15,-15,-15,-15,-16,-16,-16,-16,-17,-16,-16,-17,-16,-16,-16,-16,-16,-16,-16,-17,-17,-17,-16,-17,-18,-18,-18,-19,-19,-19,-19,-20,-21,-21,-21,-22,-22,-22,-21,-20,-21,-20,-21,-21,-20,-21,-20,-19,-20,-20,-21,-21,-22,-21,-21,-22,-22,-22,-21,-20,-20,-19,-19,-19,-19,-20,-21,-20,-21,-20,-20,-21,-21,-22,-23,-24,-24,-24,-24,-23,-22,-23,-22,-22,-22,-21,-21,-21,-20,-19,-19,-19,-18,-18,-19,-19,-18,-18,-18,-19,-20,-20,-20,-19,-19,-20,-20,-20,-19,-19,-18,-19,-19,-19,-19,-19,-19,-19,-19,-19,-19,-20,-21,-21,-22,-22,-22,-22,-22,-21,-22,-22,-22,-22,-21,-21,-21,-20,-19,-19,-18,-18,-19,-19,-19,-19,-20,-21,-21,-22,-22,-22,-22,-23,-23,-22,-23,-23,-23,-24,-25,-26,-26,-26,-26,-25,-25,-25,-25,-26,-27,-28,-28,-28,-29,-28,-28,-28,-29,-29,-29,-30,-30,-29,-29,-28,-28,-27,-27,-27,-26,-27,-28,-29,-30,-30,-30,-31,-31,-31,-31,-32,-33,-34,-34,-34,-34,-34,-33,-33,-34,-35,-35,-36,-35,-36,-36,-37,-36,-37,-37,-36,-35,-36,-37,-36,-37,-38,-37,-37,-37,-37,-37,-36,-35,-35,-36,-36,-37,-36,-36,-36,-36,-36,-36,-37,-37,-38,-39,-39,-40,-40,-39,-39,-39,-38,-39,-39,-38,-37,-36,-36,-35,-35,-34,-34,-35,-34,-34,-33,-34,-34,-34,-34,-35,-35,-36,-36,-36,-37,-38,-39,-39,-40,-41,-41,-40,-40,-41,-41,-42,-42,-42,-41,-41,-40,-40,-41,-41,-40,-41,-42,-41,-42,-42,-42,-42,-43,-43,-42,-42,-42,-42,-42,-42,-42,-41,-41,-42,-42,-43,-43,-43,-43,-43,-44,-44,-44,-44,-43,-43,-42,-41,-42,-42,-43,-43,-43,-42,-42,-42,-41,-41,-41,-41,-42,-42,-42,-42,-41,-42,-42,-41,-42,-42,-42,-42,-43,-42,-41,-40,-40,-41,-42,-43,-42,-42,-42,-41,-42,-43,-43,-43,-44,-44,-44,-45,-45,-45,-45,-46,-46,-46,-46,-46,-45,-46,-45,-46,-45,-44,-45,-45,-46,-47,-48,-48,-48,-48,-48,-47,-47,-47,-47,-47,-46,-47,-47,-47,-47,-47,-47,-47,-47,-48,-49,-48,-47,-48,-48,-48,-48,-49,-49,-48,-49,-50,-50,-49,-49,-50,-50,-50,-50,-51,-52,-53,-53,-53,-53,-53,-52,-53,-53,-53,-53,-52,-51,-50,-50,-51,-50,-49,-49,-49,-48,-47,-47,-47,-47,-47,-48,-48,-48,-47,-48,-47,-48,-48,-49,-49,-48,-49,-49,-48,-48,-49,-48,-49,-48,-47,-47,-47,-48,-48,-49,-49,-49,-49,-49,-48,-48,-49,-50,-49,-49,-48,-47,-46,-46,-46,-46,-46,-46,-46,-45,-45,-46,-45,-46,-47,-47,-48,-48,-47,-46,-47,-48,-48,-47,-46,-47,-47,-47,-47,-48,-47,-46,-46,-46,-46,-47,-46,-46,-45,-45,-44,-45,-45,-45,-45,-44,-45,-45,-46,-47,-48,-49,-49,-50,-50,-50,-49,-48,-49,-50,-50,-50,-49,-50,-50,-50,-50,-50,-49,-49,-49,-50,-49,-48,-48,-49,-50,-50,-49,-49,-50,-51,-51,-52,-53,-52,-52,-52,-53,-54,-55,-55,-56,-56,-55,-56,-55,-55,-54,-55,-56,-55,-55,-55,-55,-54,-54,-55,-54,-53,-53,-52,-53,-53,-53,-53,-53,-53,-54,-54,-54,-53,-53,-53,-54,-54,-53,-54,-54,-54,-55,-54,-53,-52,-52,-51,-52,-52,-51,-52,-51,-51,-52,-52,-52,-52,-52,-52,-52,-52,-52,-52,-51,-52,-53,-53,-53,-54,-54,-55,-54,-53,-53,-53,-54,-53,-52,-52,-52,-52,-51,-50,-50,-50,-49,-49,-50,-50,-51,-51,-51,-51,-52,-53,-54,-53,-54,-54,-54,-54,-54,-54,-54,-53,-53,-53,-53,-53,-53,-54,-53,-53,-53,-53,-54,-53,-53,-54,-55,-56,-56,-56,-57,-56,-57,-58,-57,-57,-57,-56,-56,-56,-55,-54,-55,-55,-55,-55,-56,-56,-56,-56,-55,-54,-55,-55,-54,-54,-54,-54,-54,-55,-56,-57,-57,-56,-56,-56,-57,-57,-57,-56,-56,-56,-56,-56,-57,-57,-57,-56,-57,-57,-58,-58,-58,-58,-59,-58,-58,-58,-59,-59,-59,-58,-59,-59,-59,-58,-58,-59,-59,-58,-58,-58,-59,-58,-58,-57,-57,-57,-56,-56,-56,-57,-57,-56,-56,-56,-55,-55,-55,-54,-53,-53,-54,-55,-55,-55,-55,-55,-56,-56,-56,-57,-57,-56,-55,-55,-54,-53,-52,-53,-53,-52,-53,-54,-54,-53,-53,-53,-54,-55,-54,-54,-54,-55,-56,-55,-56,-55,-55,-55,-56,-56,-55,-55,-54,-54,-53,-52,-52,-51,-51,-51,-51,-52,-52,-52,-52,-53,-53,-54,-54,-54,-55,-55,-54,-54,-54,-53,-52,-52,-52,-51,-51,-50,-49,-50,-50,-51,-51,-51,-52,-52,-52,-51,-51,-50,-50,-50,-51,-52,-52,-53,-54,-53,-54,-55,-56,-55,-55,-55,-55,-54,-55,-56,-56,-57,-57,-58,-58,-58,-58,-58,-57,-58,-58,-59,-59,-58,-58,-58,-58,-57,-57,-56,-57,-57,-58,-59,-60,-61,-61,-62,-63,-64,-63,-62,-61,-62,-61,-62,-62,-62,-62,-62,-62,-62,-62,-62,-63,-63,-63,-64,-65,-65,-64,-64,-64,-64,-63,-63,-64,-65,-65,-65,-64,-64,-64,-64,-64,-65,-64,-64,-64,-65,-65,-65,-66,-67,-67,-66,-65,-65,-66,-67,-67,-66,-66,-67,-66,-66,-66,-66,-66,-66,-66,-66,-67,-67,-66,-65,-64,-64,-65,-64,-63,-62,-63,-64,-64,-65,-65,-66,-66,-67,-67,-67,-67,-67,-67,-66,-67,-67,-67,-66,-65,-65,-64,-64,-64,-64,-64,-65,-66,-66,-66,-65,-65,-64,-65,-65,-66,-66,-65,-65,-66,-65,-64,-64,-63,-63,-63,-63,-64,-65,-65,-65,-66,-66,-66,-67,-66,-66,-66,-65,-66,-66,-66,-66,-66,-65,-65,-66,-66,-66,-65,-64,-64,-63,-62,-63,-63,-63,-63,-62,-61,-61,-60,-60,-61,-61,-61,-60,-61,-61,-61,-60,-60,-60,-61,-62,-61,-61,-60,-61,-61,-62,-62,-63,-63,-63,-63,-63,-64,-64,-65,-64,-64,-63,-63,-63,-63,-62,-63,-62,-62,-62,-63,-63,-63,-62,-61,-60,-59,-60,-61,-61,-60,-60,-60,-59,-59,-59,-58,-57,-58,-58,-59,-59,-60,-59,-59,-60,-60,-60,-61,-61,-62,-62,-62,-63,-64,-64,-64,-65,-64,-64,-65,-66,-66,-66,-66,-67,-66,-66,-67,-66,-66,-66,-66,-66,-67,-66,-66,-66,-65,-66,-67,-66,-66,-65,-65,-65,-65,-65,-65,-65,-65,-65,-65,-66,-65,-65,-64,-65,-66,-67,-68,-68,-67,-66,-67,-67,-66,-66,-65,-65,-66,-65,-65,-66,-66,-66,-66,-65,-65,-64,-63,-63,-62,-61,-60,-60,-61,-61,-61,-62,-62,-61,-61,-62,-62,-63,-63,-64,-65,-65,-64,-63,-63,-63,-63,-63,-63,-64,-65,-65,-65,-65,-66,-66,-67,-67,-67,-66,-66,-66,-66,-66,-65,-65,-64,-64,-63,-62,-63,-63,-63,-63,-64,-64,-64,-64,-63,-63,-64,-65,-64,-64,-64,-65,-66,-66,-67,-66,-65,-66,-65,-64,-64,-64,-65,-66,-66,-66,-65,-66,-67,-66,-67,-67,-67,-68,-68,-68,-68,-68,-68,-67,-68,-68,-68,-67,-67,-67,-67,-67,-66,-66,-67,-67,-67,-67,-68,-69,-69,-70,-71,-70,-70,-70,-71,-70,-70,-69,-70,-69,-69,-68,-69,-70,-69,-68,-67,-67,-67,-66,-67,-66,-65,-64,-65,-66,-67,-67,-67,-67,-67,-67,-67,-68,-68,-68,-68,-68,-68,-68,-68,-68,-67,-68,-68,-69,-69,-69,-69,-69,-70,-71,-71,-71,-72,-72,-72,-72,-71,-70,-71,-72,-73,-72,-72,-72,-72,-71,-71,-70,-69,-69,-68,-69,-68,-68,-68,-68,-68,-67,-67,-66,-66,-67,-68,-69,-70,-71,-72,-73,-74,-74,-73,-72,-73,-73,-73,-73,-74,-74,-74,-74,-74,-75,-76,-75,-76,-75,-75,-76,-75,-76,-76,-75,-76,-76,-77,-78,-79,-79,-78,-77,-76,-76,-76,-76,-75,-76,-75,-76,-77,-76,-76,-75,-76,-76,-76,-75,-75,-75,-76,-75,-75,-74,-73,-73,-72,-71,-70,-70,-70,-70,-69,-69,-68,-69,-69,-69,-70,-71,-70,-70,-70,-70,-70,-71,-71,-71,-71,-72,-72,-72,-71,-72,-72,-71,-71,-71,-71,-71,-72,-71,-71,-71,-72,-72,-72,-73,-74,-75,-74,-73,-73,-72,-72,-72,-72,-73,-73,-73,-74,-75,-74,-75,-76,-76,-75,-74,-74,-73,-73,-74,-73,-73,-73,-74,-73,-74,-74,-74,-74,-74,-74,-74,-75,-75,-75,-76,-76,-75,-75,-75,-74,-73,-72,-72,-72,-72,-72,-72,-72,-72,-72,-72,-71,-70,-70,-70,-71,-72,-72,-72,-71,-71,-71,-70,-71,-70,-70,-70,-69,-69,-68,-68,-67,-68,-67,-66,-66,-67,-67,-67,-67,-68,-68,-67,-66,-66,-67,-67,-66,-67,-67,-68,-67,-66,-67,-67,-67,-68,-68,-68,-68,-68,-68,-68,-67,-67,-66,-65,-65,-65,-65,-66,-67,-67,-67,-67,-67,-68,-67,-66,-66,-66,-66,-66,-66,-66,-66,-66,-66,-65,-66,-66,-67,-68,-69,-70,-71,-72,-73,-73,-73,-72,-72,-72,-72,-72,-71,-71,-70,-70,-70,-71,-71,-72,-73,-72,-73,-72,-71,-71,-70,-71,-71,-71,-72,-72,-72,-72,-73,-72,-73,-74,-74,-75,-75,-75,-75,-74,-74,-74,-74,-73,-73,-73,-73,-74,-73,-74,-75,-75,-75,-74,-75,-74,-73,-72,-72,-72,-72,-71,-71,-72,-71,-71,-71,-70,-70,-70,-69,-69,-68,-68,-69,-70,-70,-70,-70,-70,-71,-71,-71,-72,-72,-71,-71,-71,-72,-71,-72,-73,-73,-72,-72,-71,-70,-69,-68,-68,-68,-68,-68,-67,-67,-67,-67,-66,-66,-66,-65,-64,-64,-65,-64,-63,-64,-64,-63,-63,-63,-62,-63,-63,-63,-64,-63,-63,-62,-63,-64,-65,-65,-66,-67,-66,-66,-66,-65,-65,-65,-66,-65,-65,-65,-66,-66,-66,-67,-67,-67,-67,-68,-68,-69,-68,-67,-67,-67,-68,-68,-67,-67,-67,-68,-68,-68,-69,-69,-69,-69,-69,-69,-68,-68,-68,-67,-68,-68,-69,-68,-67,-67,-67,-68,-69,-69,-69,-69,-68,-68,-69,-70,-71,-71,-71,-72,-72,-72,-73,-72,-73,-73,-72,-72,-71,-70,-69,-70,-71,-72,-71,-72,-73,-73,-74,-74,-74,-74,-75,-74,-73,-72,-72,-71,-71,-70,-71,-71,-71,-71,-71,-72,-73,-73,-72,-72,-71,-71,-72,-72,-72,-73,-74,-75,-75,-75,-74,-73,-72,-71,-70,-70,-69,-70,-69,-70,-70,-70,-70,-70,-70,-70,-70,-70,-70,-71,-72,-72,-71,-72,-71,-71,-72,-72,-72,-72,-72,-72,-72,-73,-73,-72,-73,-74,-74,-73,-74,-74,-74,-74,-73,-73,-73,-73,-73,-74,-74,-75,-75,-74,-74,-75,-76,-76,-75,-75,-74,-73,-73,-74,-74,-73,-73,-73,-73,-73,-74,-75,-75,-74,-73,-74,-74,-73,-72,-72,-72,-71,-71,-71,-71,-72,-73,-73,-73,-72,-71,-70,-69,-69,-69,-69,-70,-70,-70,-69,-69,-68,-69,-70,-71,-72,-73,-73,-72,-73,-74,-73,-74,-75,-76,-75,-76,-76,-77,-77,-76,-76,-76,-77,-78,-79,-80,-81,-81,-80,-81,-80,-79,-80,-80,-79,-79,-80,-79,-79,-79,-79,-79,-79,-79,-80,-80,-81,-81,-82,-83,-83,-83,-82,-81,-80,-81,-81,-81,-81,-80,-81,-80,-80,-81,-82,-83,-83,-83,-83,-82,-83,-84,-85,-85,-84,-83,-83,-83,-83,-82,-82,-82,-82,-81,-81,-81,-80,-81,-82,-82,-82,-81,-82,-82,-83,-83,-82,-82,-82,-83,-84,-84,-84,-85,-85,-85,-84,-85,-84,-85,-84,-84,-83,-82,-83,-84,-83,-84,-84,-84,-84,-84,-84,-83,-83,-83,-84,-84,-84,-84,-85,-85,-84,-84,-85,-85,-85,-86,-87,-87,-87,-87,-87,-87,-86,-85,-84,-85,-86,-85,-86,-86,-86,-85,-85,-86,-85,-85,-85,-84,-84,-84,-85,-85,-85,-86,-85,-85,-85,-86,-86,-87,-86,-86,-86,-86,-87,-86,-87,-88,-88,-88,-88,-87,-87,-87,-88,-87,-86,-85,-86,-87,-87,-86,-85,-84,-84,-83,-84,-84,-84,-83,-83,-83,-83,-82,-82,-82,-83,-82,-82,-82,-83,-83,-83,-83,-83,-84,-84,-84,-85,-84,-84,-85,-86,-86,-85,-85,-84,-83,-83,-83,-82,-82,-82,-81,-81,-82,-82,-82,-82,-83,-83,-82,-81,-81,-81,-81,-80,-79,-78,-78,-78,-77,-77,-77,-77,-77,-76,-75,-75,-74,-74,-73,-72,-72,-72,-73,-74,-73,-72,-72,-72,-71,-71,-72,-71,-71,-71,-72,-72,-72,-73,-73,-74,-74,-74,-74,-73,-73,-74,-74,-74,-73,-74,-74,-75,-76,-75,-75,-75,-75,-74,-73,-73,-73,-73,-74,-74,-74,-74,-74,-75,-75,-75,-76,-77,-77,-77,-78,-79,-78,-79,-78,-77,-77,-77,-78,-78,-77,-77,-77,-77,-77,-78,-77,-77,-76,-76,-75,-75,-75,-75,-75,-75,-75,-76,-76,-76,-76,-76,-75,-74,-74,-74,-73,-73,-73,-72,-73,-72,-73,-72,-72,-72,-73,-73,-73,-72,-73,-73,-74,-73,-73,-72,-73,-73,-72,-72,-72,-72,-73,-73,-74,-74,-74,-73,-72,-71,-72,-71,-70,-71,-71,-71,-70,-71,-70,-70,-70,-69,-69,-68,-67,-67,-67,-67,-67,-67,-67,-68,-67,-66,-66,-66,-67,-67,-68,-68,-69,-68,-67,-68,-68,-68,-69,-69,-69,-68,-68,-68,-68,-67,-67,-68,-68,-68,-68,-67,-67,-67,-66,-66,-66,-65,-64,-63,-63,-63,-62,-61,-62,-62,-62,-61,-61,-62,-62,-62,-62,-63,-62,-63,-64,-63,-64,-64,-63,-63,-64,-64,-65,-66,-67,-68,-69,-69,-70,-69,-70,-70,-70,-70,-69,-70,-70,-71,-71,-71,-72,-72,-71,-71,-72,-71,-71,-71,-72,-72,-72,-72,-72,-71,-71,-71,-71,-70,-70,-71,-70,-69,-69,-70,-70,-70,-70,-70,-70,-69,-68,-68,-69,-69,-70,-70,-69,-68,-69,-69,-70,-70,-69,-70,-69,-69,-69,-70,-70,-70,-70,-70,-69,-70,-69,-70,-69,-69,-68,-69,-70,-71,-70,-70,-71,-71,-70,-70,-71,-71,-70,-70,-71,-72,-71,-71,-71,-71,-71,-71,-70,-70,-71,-71,-71,-70,-70,-70,-71,-71,-71,-71,-70,-69,-69,-68,-69,-69,-69,-69,-69,-69,-69,-69,-69,-68,-67,-66,-66,-66,-67,-68,-68,-67,-66,-66,-65,-66,-66,-66,-66,-67,-66,-66,-67,-67,-66,-66,-65,-65,-65,-65,-65,-65,-65,-66,-67,-67,-67,-67,-66,-66,-66,-65,-66,-66,-66,-65,-65,-66,-65,-64,-65,-64,-64,-64,-65,-65,-65,-65,-66,-65,-65,-64,-64,-63,-63,-63,-64,-64,-64,-65,-65,-65,-65,-66,-67,-67,-67,-67,-68,-67,-66,-67,-66,-66,-67,-67,-66,-66,-65,-64,-64,-64,-65,-64,-65,-65,-65,-64,-63,-62,-61,-62,-62,-61,-61,-60,-61,-62,-61,-62,-62,-63,-64,-64,-64,-64,-63,-63,-63,-63,-64,-63,-64,-63,-63,-64,-65,-66,-66,-66,-66,-65,-66,-66,-65,-65,-65,-65,-65,-65,-65,-64,-64,-63,-62,-63,-63,-62,-61,-60,-59,-59,-60,-59,-59,-58,-59,-60,-61,-62,-62,-61,-60,-60,-61,-61,-60,-60,-60,-59,-59,-60,-60,-59,-60,-60,-61,-60,-60,-60,-61,-62,-63,-63,-62,-61,-62,-61,-60,-61,-61,-61,-61,-61,-62,-63,-63,-62,-61,-61,-61,-61,-60,-60,-59,-59,-60,-60,-60,-60,-60,-60]],[\"y\",[0,-1,-2,-1,0,0,0,0,0,0,-1,0,1,0,0,0,0,0,-1,-2,-2,-1,-1,-2,-3,-4,-5,-4,-4,-3,-3,-4,-4,-5,-5,-4,-4,-4,-4,-4,-3,-2,-2,-2,-3,-4,-5,-5,-4,-4,-5,-5,-6,-6,-6,-5,-6,-5,-5,-5,-5,-6,-6,-7,-6,-6,-5,-5,-5,-5,-4,-3,-2,-2,-2,-2,-2,-1,-1,0,-1,-1,-1,-1,-1,-1,-1,-2,-1,-1,0,0,0,1,1,2,1,1,0,0,1,2,1,2,1,1,1,1,0,0,0,1,1,1,2,1,2,1,0,0,1,1,1,1,1,1,2,2,3,3,2,2,3,3,3,3,2,2,1,1,1,2,3,2,2,1,0,-1,-1,0,-1,-1,-1,-2,-1,-1,-1,-2,-1,0,-1,-1,-1,0,-1,-1,-1,-2,-3,-3,-3,-3,-4,-4,-4,-3,-2,-2,-3,-3,-3,-3,-2,-3,-3,-3,-3,-3,-2,-1,0,-1,-2,-2,-2,-2,-1,0,0,0,1,2,2,2,1,1,1,1,1,0,-1,-2,-2,-2,-2,-2,-2,-2,-2,-2,-3,-4,-4,-3,-4,-5,-6,-6,-6,-5,-6,-6,-6,-6,-7,-6,-6,-5,-4,-3,-4,-4,-5,-4,-4,-4,-4,-4,-3,-3,-2,-1,0,0,1,1,2,2,2,2,2,1,1,2,2,2,3,3,3,2,1,2,1,1,1,1,0,0,-1,-1,-1,-1,-1,-2,-2,-3,-4,-3,-3,-3,-4,-4,-5,-5,-5,-5,-6,-5,-6,-5,-4,-4,-3,-3,-3,-3,-3,-3,-2,-2,-2,-2,-2,-2,-2,-1,-1,0,1,1,2,3,2,1,1,2,1,1,0,1,1,1,1,1,1,2,2,2,1,2,2,1,1,1,1,2,2,2,2,2,3,3,2,2,2,3,3,2,2,1,1,0,-1,-2,-2,-3,-3,-2,-3,-3,-4,-5,-5,-6,-6,-6,-6,-7,-7,-8,-8,-9,-8,-8,-8,-7,-7,-6,-6,-6,-5,-4,-5,-5,-5,-4,-5,-5,-6,-6,-6,-6,-6,-6,-7,-7,-7,-7,-7,-7,-8,-8,-8,-7,-7,-7,-8,-8,-9,-9,-10,-11,-11,-11,-12,-11,-10,-10,-10,-9,-9,-9,-10,-9,-8,-9,-10,-10,-10,-9,-9,-10,-10,-10,-9,-8,-7,-7,-7,-7,-8,-9,-9,-9,-9,-8,-7,-8,-9,-9,-9,-9,-10,-11,-11,-12,-13,-14,-13,-13,-14,-15,-16,-16,-15,-15,-16,-16,-17,-17,-16,-16,-16,-17,-17,-18,-18,-18,-18,-19,-19,-19,-19,-20,-21,-20,-20,-20,-21,-20,-21,-20,-21,-22,-23,-22,-23,-24,-25,-24,-24,-24,-23,-22,-21,-21,-20,-21,-20,-20,-21,-21,-20,-21,-20,-21,-21,-22,-21,-20,-20,-19,-18,-19,-20,-21,-20,-20,-21,-20,-21,-22,-21,-22,-22,-22,-21,-21,-22,-22,-22,-23,-23,-24,-24,-23,-24,-24,-23,-24,-24,-23,-24,-23,-22,-23,-23,-24,-25,-25,-25,-25,-25,-24,-24,-25,-26,-26,-26,-25,-26,-26,-27,-27,-28,-28,-28,-29,-29,-30,-30,-31,-31,-30,-31,-31,-32,-32,-31,-30,-30,-30,-30,-30,-29,-29,-30,-31,-31,-31,-31,-31,-32,-31,-31,-31,-32,-33,-32,-32,-33,-34,-33,-33,-32,-33,-34,-35,-35,-34,-33,-32,-32,-33,-32,-32,-33,-33,-34,-34,-34,-33,-33,-34,-33,-33,-32,-33,-33,-33,-33,-33,-34,-33,-33,-33,-33,-33,-33,-33,-34,-33,-33,-32,-32,-31,-32,-32,-33,-33,-32,-32,-33,-33,-34,-34,-33,-33,-34,-33,-33,-33,-34,-34,-33,-34,-33,-34,-33,-33,-32,-32,-33,-32,-31,-30,-30,-29,-30,-29,-28,-29,-29,-29,-30,-31,-30,-30,-30,-30,-30,-29,-28,-29,-29,-29,-30,-29,-29,-29,-28,-28,-28,-28,-27,-28,-29,-28,-29,-29,-29,-29,-29,-30,-29,-29,-29,-28,-27,-26,-27,-28,-28,-27,-26,-26,-26,-27,-27,-27,-27,-26,-27,-27,-28,-28,-28,-27,-27,-26,-26,-26,-27,-27,-27,-26,-25,-24,-24,-25,-26,-25,-25,-25,-26,-25,-26,-26,-25,-24,-23,-24,-24,-25,-25,-24,-24,-24,-25,-25,-25,-25,-25,-25,-25,-25,-25,-26,-26,-25,-25,-25,-26,-25,-25,-24,-24,-24,-24,-23,-23,-22,-21,-21,-21,-21,-20,-21,-22,-22,-22,-23,-23,-24,-23,-23,-23,-24,-23,-23,-23,-23,-23,-23,-23,-24,-24,-25,-26,-25,-25,-24,-24,-23,-22,-21,-20,-19,-19,-18,-18,-19,-19,-18,-17,-18,-18,-18,-18,-18,-19,-19,-19,-18,-19,-19,-20,-19,-18,-18,-17,-16,-17,-17,-18,-18,-17,-16,-15,-15,-15,-16,-16,-16,-16,-16,-17,-17,-18,-17,-17,-18,-18,-18,-17,-17,-18,-18,-18,-19,-18,-18,-19,-19,-19,-20,-20,-21,-20,-20,-20,-20,-19,-20,-20,-21,-22,-22,-22,-23,-22,-22,-23,-23,-23,-23,-23,-23,-23,-23,-23,-23,-23,-23,-23,-24,-25,-26,-27,-27,-27,-26,-26,-27,-28,-28,-28,-28,-28,-29,-29,-29,-29,-30,-29,-30,-30,-30,-30,-31,-31,-31,-31,-31,-31,-30,-29,-29,-30,-29,-30,-31,-30,-30,-30,-30,-30,-30,-30,-30,-30,-29,-29,-29,-30,-30,-31,-32,-32,-31,-31,-30,-31,-31,-31,-31,-32,-31,-30,-29,-30,-30,-30,-30,-29,-29,-29,-28,-28,-28,-29,-28,-29,-29,-29,-29,-29,-28,-28,-28,-28,-29,-28,-28,-27,-26,-26,-26,-27,-26,-26,-26,-25,-26,-25,-26,-25,-25,-26,-25,-25,-26,-25,-25,-25,-25,-25,-25,-24,-24,-25,-25,-24,-25,-26,-26,-26,-25,-25,-25,-25,-26,-25,-24,-24,-25,-25,-25,-25,-26,-26,-25,-25,-25,-24,-24,-24,-25,-25,-26,-26,-26,-27,-27,-27,-28,-28,-27,-28,-29,-29,-29,-29,-30,-31,-31,-30,-29,-29,-29,-30,-30,-30,-29,-29,-29,-29,-30,-29,-29,-28,-29,-28,-27,-28,-27,-27,-28,-28,-28,-29,-29,-28,-28,-28,-28,-28,-27,-26,-25,-26,-26,-26,-26,-26,-25,-25,-25,-25,-24,-25,-25,-25,-26,-25,-26,-27,-27,-27,-28,-29,-28,-28,-28,-28,-28,-27,-27,-27,-27,-28,-27,-28,-29,-28,-29,-28,-28,-29,-29,-30,-30,-30,-31,-32,-31,-31,-31,-32,-32,-31,-31,-32,-32,-31,-32,-32,-32,-32,-33,-33,-33,-34,-34,-34,-34,-35,-35,-34,-34,-34,-35,-35,-36,-35,-35,-36,-37,-37,-37,-38,-38,-38,-39,-39,-39,-40,-40,-40,-40,-40,-41,-41,-41,-41,-40,-41,-41,-41,-42,-42,-43,-44,-43,-43,-43,-42,-43,-43,-44,-44,-43,-44,-43,-43,-42,-43,-42,-42,-43,-43,-43,-42,-42,-42,-42,-41,-41,-41,-41,-40,-39,-39,-39,-39,-38,-39,-39,-38,-38,-37,-37,-36,-36,-37,-36,-37,-37,-38,-38,-38,-38,-38,-38,-39,-38,-39,-39,-39,-40,-40,-40,-40,-39,-39,-40,-40,-40,-41,-40,-39,-40,-40,-41,-42,-43,-43,-42,-42,-43,-42,-43,-43,-43,-43,-43,-42,-42,-41,-42,-42,-43,-43,-43,-44,-44,-45,-45,-45,-46,-46,-46,-46,-46,-47,-46,-46,-46,-47,-46,-47,-46,-47,-48,-47,-47,-47,-47,-47,-47,-48,-48,-48,-48,-49,-50,-51,-51,-51,-51,-51,-52,-51,-51,-51,-52,-52,-52,-51,-52,-52,-52,-51,-52,-52,-53,-53,-54,-54,-55,-55,-54,-53,-52,-52,-53,-53,-53,-53,-53,-53,-53,-53,-53,-52,-53,-54,-54,-54,-54,-53,-53,-54,-55,-56,-56,-56,-56,-57,-58,-59,-58,-58,-59,-58,-59,-59,-59,-59,-59,-59,-59,-59,-59,-58,-58,-58,-57,-58,-58,-59,-60,-60,-61,-60,-60,-60,-60,-61,-61,-62,-61,-61,-60,-61,-60,-61,-61,-61,-61,-60,-61,-61,-62,-62,-62,-63,-63,-63,-63,-63,-63,-64,-65,-66,-66,-66,-66,-65,-65,-65,-65,-66,-65,-66,-67,-67,-68,-69,-69,-68,-67,-67,-68,-68,-68,-67,-68,-68,-69,-69,-69,-70,-69,-68,-67,-68,-69,-69,-69,-70,-71,-71,-71,-72,-72,-71,-71,-71,-71,-71,-70,-69,-69,-68,-69,-68,-67,-66,-67,-68,-68,-67,-67,-66,-65,-64,-65,-64,-64,-64,-65,-64,-64,-64,-64,-64,-65,-66,-66,-67,-66,-65,-64,-64,-65,-65,-65,-64,-64,-64,-63,-62,-61,-61,-62,-62,-63,-63,-63,-62,-62,-62,-63,-63,-64,-63,-63,-63,-63,-63,-62,-61,-61,-61,-62,-61,-60,-59,-59,-60,-60,-60,-61,-61,-61,-61,-62,-61,-60,-59,-59,-59,-59,-58,-57,-56,-57,-57,-58,-59,-59,-58,-59,-59,-59,-60,-61,-61,-61,-62,-61,-60,-60,-61,-60,-59,-59,-59,-60,-60,-61,-61,-60,-59,-59,-58,-57,-58,-59,-58,-57,-56,-56,-57,-57,-56,-57,-57,-58,-59,-58,-58,-58,-57,-57,-58,-58,-58,-59,-60,-60,-60,-60,-59,-59,-58,-58,-59,-59,-58,-58,-57,-57,-57,-57,-58,-59,-60,-59,-60,-61,-61,-61,-61,-60,-60,-60,-60,-60,-60,-60,-61,-62,-62,-62,-63,-64,-64,-64,-64,-64,-63,-63,-63,-63,-64,-64,-64,-65,-64,-64,-65,-64,-65,-65,-64,-64,-64,-64,-63,-62,-61,-62,-62,-63,-64,-65,-65,-65,-66,-67,-67,-67,-66,-67,-67,-66,-65,-65,-65,-65,-65,-65,-65,-65,-64,-64,-63,-64,-64,-63,-62,-61,-62,-63,-62,-62,-62,-62,-63,-63,-63,-63,-63,-63,-64,-64,-65,-65,-66,-66,-66,-67,-68,-68,-68,-68,-68,-67,-66,-66,-66,-66,-67,-66,-66,-66,-66,-65,-65,-66,-65,-66,-66,-66,-67,-68,-67,-68,-67,-68,-67,-68,-68,-69,-69,-70,-70,-69,-68,-68,-68,-68,-68,-69,-69,-68,-67,-66,-65,-66,-66,-66,-66,-67,-66,-65,-65,-65,-66,-66,-65,-65,-65,-65,-65,-65,-64,-65,-65,-64,-64,-65,-66,-67,-68,-67,-67,-66,-65,-65,-64,-64,-64,-63,-64,-63,-63,-62,-63,-63,-62,-63,-62,-62,-63,-62,-61,-62,-62,-62,-61,-62,-61,-62,-62,-63,-63,-62,-62,-62,-63,-63,-62,-62,-62,-62,-63,-64,-64,-64,-64,-64,-65,-65,-65,-65,-66,-65,-64,-63,-64,-64,-65,-65,-65,-64,-65,-65,-66,-66,-65,-65,-65,-65,-65,-66,-66,-67,-67,-68,-68,-67,-66,-67,-66,-67,-68,-68,-68,-69,-70,-70,-69,-68,-68,-68,-68,-69,-70,-69,-70,-69,-69,-68,-68,-69,-70,-70,-70,-71,-72,-71,-70,-70,-71,-70,-69,-69,-70,-71,-70,-71,-71,-71,-71,-71,-71,-72,-72,-73,-73,-74,-75,-74,-75,-75,-75,-75,-76,-77,-77,-77,-77,-77,-77,-76,-77,-78,-79,-78,-78,-77,-76,-76,-76,-76,-76,-76,-75,-76,-76,-75,-76,-75,-75,-76,-76,-75,-75,-75,-75,-74,-74,-74,-74,-75,-75,-74,-75,-74,-73,-73,-73,-74,-73,-72,-71,-72,-71,-70,-69,-70,-69,-69,-70,-70,-70,-70,-70,-69,-69,-69,-70,-71,-72,-72,-73,-72,-73,-74,-74,-74,-74,-73,-74,-74,-75,-76,-75,-74,-74,-74,-73,-73,-74,-73,-73,-73,-73,-73,-72,-72,-72,-72,-71,-71,-70,-70,-69,-69,-70,-70,-69,-69,-69,-70,-69,-69,-69,-68,-67,-67,-67,-67,-68,-67,-67,-66,-66,-66,-66,-65,-66,-66,-67,-66,-65,-64,-64,-64,-65,-65,-66,-65,-64,-65,-65,-65,-65,-65,-65,-65,-65,-65,-64,-65,-66,-67,-67,-67,-67,-66,-66,-65,-65,-65,-65,-65,-64,-65,-65,-65,-64,-64,-64,-63,-63,-63,-63,-62,-63,-63,-63,-62,-62,-61,-61,-62,-63,-63,-63,-63,-63,-64,-65,-66,-66,-65,-65,-66,-67,-67,-66,-66,-65,-64,-64,-64,-63,-62,-62,-63,-63,-63,-64,-64,-63,-64,-63,-62,-61,-61,-60,-59,-59,-58,-57,-58,-58,-59,-60,-61,-61,-61,-60,-60,-60,-61,-62,-61,-60,-59,-58,-58,-57,-56,-56,-56,-56,-55,-56,-56,-57,-56,-55,-55,-55,-56,-57,-57,-58,-59,-59,-59,-59,-59,-59,-60,-60,-60,-60,-60,-60,-59,-59,-58,-58,-58,-59,-59,-60,-59,-59,-59,-60,-60,-61,-60,-59,-59,-59,-59,-59,-59,-60,-60,-61,-61,-61,-61,-60,-59,-60,-60,-60,-60,-60,-61,-62,-62,-63,-62,-62,-62,-61,-62,-62,-63,-63,-62,-62,-63,-64,-64,-64,-63,-64,-64,-63,-63,-64,-63,-63,-64,-64,-64,-65,-64,-65,-66,-65,-66,-65,-64,-63,-63,-63,-64,-64,-65,-66,-65,-64,-64,-64,-63,-62,-63,-63,-62,-61,-61,-61,-62,-62,-63,-63,-62,-61,-62,-62,-62,-61,-61,-60,-61,-60,-60,-59,-59,-59,-58,-59,-59,-59,-59,-58,-57,-58,-58,-57,-58,-59,-59,-59,-59,-58,-59,-59,-59,-60,-61,-61,-60,-59,-59,-58,-58,-59,-59,-58,-58,-59,-60,-60,-60,-60,-60,-60,-61,-62,-62,-63,-62,-61,-61,-61,-61,-60,-59,-58,-57,-57,-58,-58,-58,-59,-59,-59,-59,-58,-58,-58,-58,-57,-57,-57,-57,-57,-57,-57,-57,-57,-56,-55,-56,-57,-57,-57,-56,-56,-57,-57,-57,-56,-55,-56,-55,-56,-56,-55,-55,-55,-54,-54,-55,-55,-56,-55,-55,-55,-56,-56,-56,-56,-57,-57,-58,-58,-59,-59,-59,-58,-58,-58,-59,-58,-57,-57,-56,-56,-57,-58,-58,-58,-58,-59,-59,-59,-60,-60,-59,-59,-60,-60,-59,-58,-58,-59,-59,-60,-60,-59,-59,-59,-59,-59,-59,-60,-59,-58,-58,-57,-57,-58,-57,-58,-57,-58,-59,-59,-60,-60,-61,-61,-60,-61,-60,-59,-59,-58,-59,-58,-58,-57,-57,-57,-57,-58,-58,-59,-58,-58,-59,-58,-58,-59,-60,-61,-61,-62,-63,-64,-64,-64,-63,-63,-63,-62,-61,-60,-60,-60,-60,-60,-59,-59,-59,-59,-59,-60,-59,-59,-59,-59,-58,-59,-59,-60,-61,-61,-62,-63,-64,-64,-65,-66,-65,-64,-64,-64,-64,-64,-64,-64,-64,-63,-63,-63,-63,-64,-65,-64,-63,-63,-62,-61,-60,-61,-61,-61,-60,-59,-60,-61,-62,-63,-64,-64,-64,-64,-64,-64,-65,-64,-63,-63,-62,-62,-62,-62,-63,-63,-64,-64,-63,-62,-63,-63,-63,-63,-64,-65,-64,-63,-63,-63,-64,-65,-66,-66,-66,-66,-65,-65,-65,-65,-66,-65,-65,-65,-64,-65,-64,-65,-65,-66,-65,-65,-65,-65,-65,-64,-64,-63,-63,-63,-62,-62,-61,-61,-61,-61,-61,-61,-60,-61,-61,-60,-60,-59,-60,-61,-60,-60,-61,-61,-61,-61,-60,-60,-60,-60,-59,-58,-57,-58,-59,-60,-60,-61,-61,-61,-61,-61,-60,-60,-59,-59,-59,-59,-59,-60,-60,-60,-60,-61,-62,-63,-63,-63,-63,-62,-61,-60,-60,-60,-59,-59,-58,-58,-58,-57,-56,-57,-57,-57,-56,-56,-56,-56,-56,-55,-55,-56,-57,-57,-57,-57,-57,-56,-57,-57,-57,-58,-57,-56,-55,-55,-56,-57,-57,-57,-57,-58,-58,-58,-57,-57,-58,-58,-58,-59,-59,-59,-59,-60,-61,-61,-61,-61,-60,-60,-59,-59,-59,-59,-60,-60,-60,-60,-60,-61,-62,-61,-61,-60,-60,-60,-60,-59,-59,-59,-58,-59,-60,-61,-60,-60,-59,-60,-60,-61,-60,-60,-61,-61,-61,-62,-63,-63,-63,-63,-63,-64,-64,-64,-63,-63,-63,-63,-64,-64,-63,-64,-63,-62,-63,-62,-61,-60,-61,-61,-61,-61,-62,-61,-61,-60,-60,-60,-60,-59,-60,-60,-60,-60,-59,-60,-59,-59,-59,-60,-61,-61,-60,-60,-61,-61,-62,-61,-62,-62,-62,-62,-62,-62,-63,-62,-63,-64,-65,-64,-64,-65,-66,-67,-66,-67,-67,-67,-68,-67,-66,-66,-66,-67,-67,-67,-67,-68,-67,-67,-67,-67,-67,-67,-66,-65,-65,-66,-67,-67,-67,-67,-68,-67,-66,-66,-65,-64,-65,-65,-65,-65,-66,-66,-67,-68,-67,-68,-68,-68,-68,-69,-69,-68,-69,-69,-70,-71,-71,-70,-69,-68,-69,-69,-68,-69,-69,-69,-70,-70,-69,-70,-69,-69,-69,-70,-71,-71,-72,-73,-73,-73,-72,-73,-73,-72,-72,-71,-71,-70,-69,-69,-69,-70,-70,-71,-72,-72,-71,-72,-72,-73,-73,-74,-75,-75,-76,-75,-75,-75,-76,-76,-76,-75,-76,-77,-78,-78,-79,-80,-80,-81,-81,-81,-82,-82,-82,-82,-82,-83,-83,-83,-83,-82,-82,-81,-82,-82,-82,-82,-81,-82,-82,-82,-82,-82,-82,-83,-82,-82,-81,-81,-82,-82,-81,-81,-81,-80,-80,-81,-82,-83,-83,-84,-83,-84,-84,-83,-83,-82,-83,-83,-84,-84,-83,-84,-84,-84,-85,-84,-84,-83,-83,-83,-83,-82,-82,-81,-80,-80,-81,-80,-80,-81,-81,-80,-81,-81,-81,-80,-80,-80,-80,-80,-80,-80,-80,-81,-80,-81,-81,-81,-81,-82,-82,-81,-81,-80,-79,-78,-77,-77,-77,-76,-76,-77,-77,-78,-79,-78,-78,-79,-79,-79,-78,-78,-78,-78,-78,-79,-79,-79,-79,-79,-79,-79,-79,-79,-79,-78,-77,-76,-77,-78,-79,-80,-81,-81,-80,-81,-81,-81,-82,-82,-83,-84,-83,-83,-84,-84,-84,-83,-82,-82,-83,-84,-83,-84,-84,-84,-83,-84,-84,-85,-84,-84,-84,-83,-83,-83,-84,-84,-84,-83,-83,-84,-84,-84,-85,-84,-85,-86,-87,-88,-87,-87,-88,-88,-88,-88,-87,-87,-87,-87,-87,-87,-87,-86,-86,-85,-85,-84,-84,-85,-84,-85,-84,-85,-85,-85,-84,-85,-85,-85,-84,-84,-83,-84,-85,-84,-84,-84,-85,-86,-86,-85,-85,-85,-86,-86,-87,-87,-86,-86,-86,-86,-87,-87,-88,-87,-88,-88,-88,-87,-86,-86,-87,-86,-86,-86,-85,-86,-86,-86,-87,-86,-85,-84,-84,-85,-85,-86,-85,-85,-85,-84,-84,-84,-84,-85,-84,-85,-85,-85,-86,-86,-85,-85,-84,-85,-85,-85,-86,-87,-87,-88,-87,-87,-87,-87,-86,-86,-86,-87,-87,-88,-88,-87,-86,-87,-88,-88,-87,-87,-87,-88,-88,-89,-90,-91,-91,-91,-91,-90,-89,-89,-90,-91,-91,-91,-91,-91,-91,-91,-90,-90,-91,-92,-92,-93,-92,-92,-92,-92,-91,-91,-90,-90,-90,-91,-91,-90,-89,-89,-90,-90,-91,-90,-90,-90,-89,-90,-90,-90,-91,-91,-91,-92,-91,-90,-90,-90,-91,-91,-91,-90,-91,-92,-93,-93,-93,-92,-93,-93,-93,-93,-93,-92,-92,-91,-92,-91,-92,-91,-92,-91,-90,-89,-89,-89,-90,-90,-90,-90,-90,-90,-89,-89,-89,-89,-90,-90,-91,-91,-92,-92,-92,-91,-91,-92,-91,-90,-90,-89,-89,-89,-90,-90,-90,-90,-89,-89,-90,-89,-89,-88,-88,-87,-87,-86,-86,-87,-87,-87,-86,-86,-86,-85,-86,-87,-88,-89,-89,-89,-90,-89,-88,-88,-89,-89,-88,-89,-89,-90,-89,-90,-91,-91,-90,-90,-89,-89,-89,-89,-90,-89,-88,-88,-87,-88,-89,-89,-90,-90,-90,-90,-91,-90,-90,-90,-89,-89,-89,-89,-89,-89,-89,-90,-91,-91,-91,-90,-91,-91,-91,-91,-91,-91,-92,-91,-91,-92,-93,-94,-93,-92,-92,-92,-93,-94,-94,-95,-94,-93,-92,-92,-93,-93,-92,-93,-94,-94,-94,-95,-95,-95,-95,-96,-97,-97,-97,-96,-96,-96,-96,-97,-97,-97,-97,-97,-97,-97,-96,-97,-97,-97,-97,-97,-97,-97,-97,-97,-96,-95,-94,-95,-94,-95,-95,-94,-95,-94,-95,-94,-95,-96,-97,-97,-97,-98,-98,-97,-96,-95,-94,-94,-94,-95,-94,-94,-93,-92,-93,-93,-93,-93,-93,-93,-93,-92,-93,-94,-94,-95,-95,-95,-96,-96,-96,-96,-97,-98,-99,-100,-100,-101,-101,-102,-102,-102,-102,-102,-102,-102,-102,-102,-101,-101,-101,-101,-100,-99,-100,-100,-101,-102,-103,-104,-104,-104,-104,-104,-104,-103,-103,-103,-103,-104,-104,-104,-105,-105,-105,-105,-104,-104,-104,-104,-105,-106,-107,-107,-107,-107,-107,-107,-107,-106,-106,-106,-105,-106,-106,-107,-108,-108,-108,-109,-109,-109,-110,-110,-110,-110,-111,-110,-109,-109,-108,-108,-108,-107,-108,-108,-108,-108,-109,-110,-109,-110,-110,-109,-108,-109,-109,-108,-109,-109,-109,-108,-108,-109,-108,-109,-110,-110,-110,-109,-110,-110,-109,-110,-110,-110,-110,-110,-110,-111,-111,-110,-111,-112,-112,-113,-112,-112,-112,-112,-112,-112,-111,-111,-111,-112,-112,-113,-113,-113,-114,-115,-115,-115,-115,-116,-117,-116,-117,-118,-117,-117,-116,-115,-115,-114,-114,-115,-114,-114,-114,-114,-115,-114,-113,-114,-113,-112,-111,-112,-113,-113,-113,-114,-113,-113,-113,-114,-113,-113,-114,-115,-115,-115,-115,-114,-115,-115,-114,-114,-115,-115,-115,-115,-115,-114,-114,-113,-114,-115,-115,-114,-114,-114,-115,-115,-116,-116,-116,-117,-117,-117,-117,-117,-116,-117,-117,-116,-117,-118,-119,-120,-119,-119,-120,-120,-120,-121,-120,-119,-119,-119,-120,-121,-120,-119,-119,-119,-119,-120,-119,-118,-119,-118,-119,-118,-119,-118,-118,-118,-117,-117,-117,-117,-117,-117,-117,-117,-118,-119,-119,-120,-121,-120,-119,-119,-120,-120,-121,-120,-120,-121,-121,-121,-121,-121,-121,-121,-120,-120,-120,-121,-122,-122,-121,-122,-121,-121,-121,-121,-121,-120,-120,-121,-120,-121,-121,-120,-121,-120,-120,-121,-120,-119,-119,-119,-119,-119,-118,-119,-119,-119,-119,-119,-119,-118,-119,-118,-118,-119,-119,-119,-120,-119,-119,-118,-117,-117,-118,-118,-119,-119,-119,-118,-119,-120,-121,-121,-120,-121,-121,-120,-120,-119,-118,-118,-118,-118,-118,-117,-117,-118,-118,-118,-118,-118,-117,-118,-119,-120,-120,-119,-118,-117,-117,-118,-117,-117,-117,-118,-118,-118,-118,-118,-119,-119,-120,-121,-121,-121,-120,-121,-121,-121,-122,-122,-122,-122,-122,-121,-121,-121,-121,-120,-119,-119,-118,-119,-119,-119,-120,-121,-121,-122,-121,-121,-122,-123,-122,-122,-121,-121,-121,-121,-120,-119,-119,-118,-118,-119,-118,-118,-119,-118,-118,-117,-116,-115,-114,-113,-113,-112,-113,-113,-113,-112,-112,-112,-112,-111,-110,-110,-110,-109,-108,-109,-109,-108,-108,-108,-108,-109,-108,-108,-109,-108,-108,-108,-108,-107,-107,-108,-108,-108,-108,-108,-108,-108,-108,-108,-108,-109,-109,-110,-111,-112,-112,-112,-112,-112,-113,-113,-114,-114,-114,-115,-116,-117,-118,-118,-118,-117,-117,-116,-116,-115,-115,-114,-113,-113,-113,-113,-114,-113,-113,-113,-113,-113,-113,-112,-112,-112,-112,-112,-113,-112,-111,-110,-111,-112,-113,-112,-113,-113,-113,-112,-112,-112,-112,-111,-111,-110,-111,-110,-111,-110,-109,-109,-110,-110,-110,-110,-109,-109,-109,-108,-109,-110,-110,-111,-110,-111,-112,-112,-111,-111,-112,-112,-113,-113,-113,-112,-112,-111,-111,-111,-110,-110,-111,-111,-110,-111,-110,-109,-109,-109,-108,-108,-108,-108,-109,-109,-109,-108,-107,-107,-108,-109,-110,-110,-110,-109,-110,-110,-110,-110,-110,-109,-108,-107,-107,-108,-109,-109,-108,-108,-108,-108,-108,-108,-108,-109,-109,-109,-109,-109,-109,-109,-109,-109,-109,-110,-110,-111,-111,-110,-111,-111,-111,-111,-111,-111,-112,-112,-112,-112,-112,-112,-113,-113,-112,-112,-112,-111,-110,-111,-110,-109,-108,-108,-107,-107,-108,-108,-108,-109,-110,-110,-110,-110,-110,-111,-112,-111,-111,-111,-111,-112,-112,-112,-112,-113,-112,-113,-113,-113,-113,-113,-112,-112,-112,-113,-114,-113,-113,-114,-115,-116,-116,-115,-114,-114,-114,-114,-115,-116,-116,-116,-117,-117,-118,-118,-117,-116,-116,-116,-117,-118,-118,-119,-120,-120,-120,-120,-120,-120,-121,-121,-121,-121,-121,-121,-121,-120,-121,-120,-119,-118,-118,-117,-116,-116,-117,-118,-117,-117,-118,-118,-117,-117,-118,-119,-119,-119,-120,-119,-120,-121,-122,-122,-122,-122,-122,-122,-122,-122,-123,-124,-124,-125,-125,-125,-126,-127,-127,-128,-127,-127,-126,-125,-125,-125,-126,-127,-127,-126,-126,-126,-125,-124,-123,-123,-123,-123,-123,-124,-123,-122,-122,-121,-122,-122,-122,-122,-122,-122,-122,-123,-123,-123,-123,-122,-122,-122,-121,-122,-122,-121,-122,-121,-121,-120,-121,-121,-121,-120,-119,-119,-118,-117,-118,-119,-119,-120,-119,-119,-119,-120,-120,-120,-119,-119,-118,-118,-118,-119,-118,-118,-119,-118,-118,-117,-117,-118,-119,-118,-118,-117,-117,-117,-116,-115,-116,-116,-116,-116,-115,-116,-116,-117,-118,-117,-116,-116,-116,-115,-115,-116,-116,-116,-117,-116,-116,-116,-116,-116,-115,-116,-116,-115,-115,-115,-116,-115,-115,-114,-113,-113,-112,-112,-111,-110,-109,-109,-110,-110,-111,-110,-110,-110,-109,-109,-109,-109,-110,-109,-108,-108,-108,-109,-108,-107,-107,-106,-105,-106,-105,-105,-104,-103,-103,-103,-102,-101,-101,-101,-101,-101,-101,-101,-102,-103,-103,-104,-104,-103,-102,-103,-104,-104,-104,-103,-103,-104,-104,-103,-102,-101,-102,-103,-102,-102,-103,-104,-105,-106,-106,-106,-105,-106,-106,-105,-106,-106,-106,-106,-106,-106,-105,-104,-104,-105,-104,-104,-104,-103,-103,-103,-102,-102,-102,-103,-103,-104,-105,-106,-106,-107,-107,-108,-107,-107,-107,-107,-107,-107,-107,-107,-108,-107,-107,-107,-107,-106,-107,-107,-108,-108,-108,-109,-110,-109,-110,-111,-110,-110,-110,-110,-111,-110,-110,-111,-111,-110,-110,-110,-110,-110,-111,-110,-110,-111,-112,-112,-113,-112,-111,-111,-112,-112,-111,-112,-113,-113,-114,-115,-115,-116,-117,-117,-117,-117,-118,-117,-117,-117,-117,-116,-115,-115,-114,-114,-113,-112,-111,-111,-111,-111,-111,-111,-111,-112,-112,-113,-113,-112,-112,-112,-112,-112,-112,-111,-111,-111,-111,-112,-111,-110,-110,-110,-109,-109,-110,-109,-109,-108,-108,-109,-109,-109,-110,-111,-111,-112,-111,-110,-111,-111,-112,-111,-112,-112,-113,-113,-113,-113,-114,-114,-115,-116,-117,-118,-119,-119,-119,-120,-120,-121,-121,-122,-122,-122,-122,-123,-123,-124,-124,-124,-124,-125,-126,-126,-127,-126,-127,-128,-128,-128,-128,-128,-128,-129,-129,-129,-129,-129,-129,-128,-128,-129,-129,-130,-130,-129,-129,-130,-130,-130,-130,-131,-130,-131,-132,-131,-131,-130,-130,-131,-130,-130,-129,-128,-128,-129,-128,-127,-127,-127,-128,-128,-128,-127,-128,-129,-130,-131,-130,-129,-130,-130,-130,-130,-129,-130,-130,-130,-129,-129,-129,-128,-128,-128,-129,-128,-129,-129,-129,-128,-128,-129,-129,-130,-130,-131,-132,-133,-132,-133,-134,-134,-134,-135,-134,-133,-133,-132,-131,-131,-131,-130,-131,-131,-130,-130,-130,-130,-130,-130,-129,-130,-130,-131,-132,-131,-131,-131,-130,-130,-129,-129,-130,-129,-129,-130,-131,-131,-130,-131,-130,-130,-130,-129,-128,-129,-129,-129,-129,-129,-129,-130,-130,-131,-131,-132,-132,-132,-131,-130,-130,-130,-130,-131,-132,-132,-132,-132,-132,-132,-131,-131,-130,-130,-130,-130,-130,-130,-129,-129,-129,-130,-129,-128,-128,-127,-128,-127,-127,-127,-127,-127,-126,-126,-126,-126,-127,-128,-127,-127,-127,-126,-126,-125,-124,-125,-124,-123,-122,-122,-121,-121,-121,-121,-120,-120,-120,-120,-120,-119,-119,-119,-118,-118,-118,-118,-118,-118,-119,-119,-119,-118,-118,-119,-119,-118,-117,-117,-116,-116,-115,-115,-115,-116,-116,-116,-115,-116,-116,-116,-116,-115,-115,-115,-115,-115,-115,-115,-114,-113,-114,-115,-115,-115,-114,-114,-114,-113,-112,-111,-111,-110,-110,-111,-111,-110,-109,-110,-111,-112]]]}}},\"view\":{\"type\":\"object\",\"name\":\"CDSView\",\"id\":\"p1764\",\"attributes\":{\"filter\":{\"type\":\"object\",\"name\":\"AllIndices\",\"id\":\"p1765\"}}},\"glyph\":{\"type\":\"object\",\"name\":\"Line\",\"id\":\"p1760\",\"attributes\":{\"x\":{\"type\":\"field\",\"field\":\"x\"},\"y\":{\"type\":\"field\",\"field\":\"y\"},\"line_color\":\"yellowgreen\"}},\"nonselection_glyph\":{\"type\":\"object\",\"name\":\"Line\",\"id\":\"p1761\",\"attributes\":{\"x\":{\"type\":\"field\",\"field\":\"x\"},\"y\":{\"type\":\"field\",\"field\":\"y\"},\"line_color\":\"yellowgreen\",\"line_alpha\":0.1}},\"muted_glyph\":{\"type\":\"object\",\"name\":\"Line\",\"id\":\"p1762\",\"attributes\":{\"x\":{\"type\":\"field\",\"field\":\"x\"},\"y\":{\"type\":\"field\",\"field\":\"y\"},\"line_color\":\"yellowgreen\",\"line_alpha\":0.2}}}},{\"type\":\"object\",\"name\":\"GlyphRenderer\",\"id\":\"p1774\",\"attributes\":{\"data_source\":{\"type\":\"object\",\"name\":\"ColumnDataSource\",\"id\":\"p1768\",\"attributes\":{\"selected\":{\"type\":\"object\",\"name\":\"Selection\",\"id\":\"p1769\",\"attributes\":{\"indices\":[],\"line_indices\":[]}},\"selection_policy\":{\"type\":\"object\",\"name\":\"UnionRenderers\",\"id\":\"p1770\"},\"data\":{\"type\":\"map\",\"entries\":[[\"x\",[0,0]],[\"y\",[0,-1]]]}}},\"view\":{\"type\":\"object\",\"name\":\"CDSView\",\"id\":\"p1775\",\"attributes\":{\"filter\":{\"type\":\"object\",\"name\":\"AllIndices\",\"id\":\"p1776\"}}},\"glyph\":{\"type\":\"object\",\"name\":\"Line\",\"id\":\"p1771\",\"attributes\":{\"x\":{\"type\":\"field\",\"field\":\"x\"},\"y\":{\"type\":\"field\",\"field\":\"y\"},\"line_width\":10}},\"nonselection_glyph\":{\"type\":\"object\",\"name\":\"Line\",\"id\":\"p1772\",\"attributes\":{\"x\":{\"type\":\"field\",\"field\":\"x\"},\"y\":{\"type\":\"field\",\"field\":\"y\"},\"line_alpha\":0.1,\"line_width\":10}},\"muted_glyph\":{\"type\":\"object\",\"name\":\"Line\",\"id\":\"p1773\",\"attributes\":{\"x\":{\"type\":\"field\",\"field\":\"x\"},\"y\":{\"type\":\"field\",\"field\":\"y\"},\"line_alpha\":0.2,\"line_width\":10}}}},{\"type\":\"object\",\"name\":\"GlyphRenderer\",\"id\":\"p1783\",\"attributes\":{\"data_source\":{\"type\":\"object\",\"name\":\"ColumnDataSource\",\"id\":\"p1777\",\"attributes\":{\"selected\":{\"type\":\"object\",\"name\":\"Selection\",\"id\":\"p1778\",\"attributes\":{\"indices\":[],\"line_indices\":[]}},\"selection_policy\":{\"type\":\"object\",\"name\":\"UnionRenderers\",\"id\":\"p1779\"},\"data\":{\"type\":\"map\",\"entries\":[[\"x\",[-60,-60]],[\"y\",[-110,-111]]]}}},\"view\":{\"type\":\"object\",\"name\":\"CDSView\",\"id\":\"p1784\",\"attributes\":{\"filter\":{\"type\":\"object\",\"name\":\"AllIndices\",\"id\":\"p1785\"}}},\"glyph\":{\"type\":\"object\",\"name\":\"Line\",\"id\":\"p1780\",\"attributes\":{\"x\":{\"type\":\"field\",\"field\":\"x\"},\"y\":{\"type\":\"field\",\"field\":\"y\"},\"line_color\":\"red\",\"line_width\":10}},\"nonselection_glyph\":{\"type\":\"object\",\"name\":\"Line\",\"id\":\"p1781\",\"attributes\":{\"x\":{\"type\":\"field\",\"field\":\"x\"},\"y\":{\"type\":\"field\",\"field\":\"y\"},\"line_color\":\"red\",\"line_alpha\":0.1,\"line_width\":10}},\"muted_glyph\":{\"type\":\"object\",\"name\":\"Line\",\"id\":\"p1782\",\"attributes\":{\"x\":{\"type\":\"field\",\"field\":\"x\"},\"y\":{\"type\":\"field\",\"field\":\"y\"},\"line_color\":\"red\",\"line_alpha\":0.2,\"line_width\":10}}}},{\"type\":\"object\",\"name\":\"GlyphRenderer\",\"id\":\"p1792\",\"attributes\":{\"data_source\":{\"type\":\"object\",\"name\":\"ColumnDataSource\",\"id\":\"p1786\",\"attributes\":{\"selected\":{\"type\":\"object\",\"name\":\"Selection\",\"id\":\"p1787\",\"attributes\":{\"indices\":[],\"line_indices\":[]}},\"selection_policy\":{\"type\":\"object\",\"name\":\"UnionRenderers\",\"id\":\"p1788\"},\"data\":{\"type\":\"map\",\"entries\":[[\"x\",[0,-60]],[\"y\",[0,-111]]]}}},\"view\":{\"type\":\"object\",\"name\":\"CDSView\",\"id\":\"p1793\",\"attributes\":{\"filter\":{\"type\":\"object\",\"name\":\"AllIndices\",\"id\":\"p1794\"}}},\"glyph\":{\"type\":\"object\",\"name\":\"Line\",\"id\":\"p1789\",\"attributes\":{\"x\":{\"type\":\"field\",\"field\":\"x\"},\"y\":{\"type\":\"field\",\"field\":\"y\"},\"line_color\":\"#1f77b4\"}},\"nonselection_glyph\":{\"type\":\"object\",\"name\":\"Line\",\"id\":\"p1790\",\"attributes\":{\"x\":{\"type\":\"field\",\"field\":\"x\"},\"y\":{\"type\":\"field\",\"field\":\"y\"},\"line_color\":\"#1f77b4\",\"line_alpha\":0.1}},\"muted_glyph\":{\"type\":\"object\",\"name\":\"Line\",\"id\":\"p1791\",\"attributes\":{\"x\":{\"type\":\"field\",\"field\":\"x\"},\"y\":{\"type\":\"field\",\"field\":\"y\"},\"line_color\":\"#1f77b4\",\"line_alpha\":0.2}}}}],\"toolbar\":{\"type\":\"object\",\"name\":\"Toolbar\",\"id\":\"p1733\",\"attributes\":{\"tools\":[{\"type\":\"object\",\"name\":\"PanTool\",\"id\":\"p1746\"},{\"type\":\"object\",\"name\":\"WheelZoomTool\",\"id\":\"p1747\",\"attributes\":{\"renderers\":\"auto\"}},{\"type\":\"object\",\"name\":\"BoxZoomTool\",\"id\":\"p1748\",\"attributes\":{\"overlay\":{\"type\":\"object\",\"name\":\"BoxAnnotation\",\"id\":\"p1749\",\"attributes\":{\"syncable\":false,\"level\":\"overlay\",\"visible\":false,\"left\":{\"type\":\"number\",\"value\":\"nan\"},\"right\":{\"type\":\"number\",\"value\":\"nan\"},\"top\":{\"type\":\"number\",\"value\":\"nan\"},\"bottom\":{\"type\":\"number\",\"value\":\"nan\"},\"left_units\":\"canvas\",\"right_units\":\"canvas\",\"top_units\":\"canvas\",\"bottom_units\":\"canvas\",\"line_color\":\"black\",\"line_alpha\":1.0,\"line_width\":2,\"line_dash\":[4,4],\"fill_color\":\"lightgrey\",\"fill_alpha\":0.5}}}},{\"type\":\"object\",\"name\":\"SaveTool\",\"id\":\"p1754\"},{\"type\":\"object\",\"name\":\"ResetTool\",\"id\":\"p1755\"},{\"type\":\"object\",\"name\":\"HelpTool\",\"id\":\"p1756\"}]}},\"left\":[{\"type\":\"object\",\"name\":\"LinearAxis\",\"id\":\"p1741\",\"attributes\":{\"ticker\":{\"type\":\"object\",\"name\":\"BasicTicker\",\"id\":\"p1742\",\"attributes\":{\"mantissas\":[1,2,5]}},\"formatter\":{\"type\":\"object\",\"name\":\"BasicTickFormatter\",\"id\":\"p1743\"},\"axis_label\":\"y axis\",\"major_label_policy\":{\"type\":\"object\",\"name\":\"AllLabels\",\"id\":\"p1744\"}}}],\"below\":[{\"type\":\"object\",\"name\":\"LinearAxis\",\"id\":\"p1736\",\"attributes\":{\"ticker\":{\"type\":\"object\",\"name\":\"BasicTicker\",\"id\":\"p1737\",\"attributes\":{\"mantissas\":[1,2,5]}},\"formatter\":{\"type\":\"object\",\"name\":\"BasicTickFormatter\",\"id\":\"p1738\"},\"axis_label\":\"x axis\",\"major_label_policy\":{\"type\":\"object\",\"name\":\"AllLabels\",\"id\":\"p1739\"}}}],\"center\":[{\"type\":\"object\",\"name\":\"Grid\",\"id\":\"p1740\",\"attributes\":{\"axis\":{\"id\":\"p1736\"}}},{\"type\":\"object\",\"name\":\"Grid\",\"id\":\"p1745\",\"attributes\":{\"dimension\":1,\"axis\":{\"id\":\"p1741\"}}},{\"type\":\"object\",\"name\":\"Legend\",\"id\":\"p1766\",\"attributes\":{\"items\":[{\"type\":\"object\",\"name\":\"LegendItem\",\"id\":\"p1767\",\"attributes\":{\"label\":{\"type\":\"value\",\"value\":\"walk\"},\"renderers\":[{\"id\":\"p1763\"}]}}]}}]}}]}};\n  const render_items = [{\"docid\":\"7e3e15d8-e747-4c1e-93a9-8851fa51e75b\",\"roots\":{\"p1724\":\"dc61e4f3-85ea-4b8d-999f-e401695aa42d\"},\"root_ids\":[\"p1724\"]}];\n  void root.Bokeh.embed.embed_items_notebook(docs_json, render_items);\n  }\n  if (root.Bokeh !== undefined) {\n    embed_document(root);\n  } else {\n    let attempts = 0;\n    const timer = setInterval(function(root) {\n      if (root.Bokeh !== undefined) {\n        clearInterval(timer);\n        embed_document(root);\n      } else {\n        attempts++;\n        if (attempts > 100) {\n          clearInterval(timer);\n          console.log(\"Bokeh: ERROR: Unable to run BokehJS code because BokehJS library is missing\");\n        }\n      }\n    }, 10, root)\n  }\n})(window);",
      "application/vnd.bokehjs_exec.v0+json": ""
     },
     "metadata": {
      "application/vnd.bokehjs_exec.v0+json": {
       "id": "p1724"
      }
     },
     "output_type": "display_data"
    }
   ],
   "source": [
    "from bokeh.plotting import figure, show\n",
    "\n",
    "def caminata(campo, pasos, tipo_de_borracho):\n",
    "\n",
    "    borracho = tipo_de_borracho(nombre='David')\n",
    "    origen = Coordenada(0, 0)\n",
    "    campo.anadir_borracho(borracho, origen)\n",
    "\n",
    "    coordenadas_x=[]\n",
    "    coordenadas_y=[]\n",
    "\n",
    "    coordenadas_x.append(origen.x)\n",
    "    coordenadas_y.append(origen.y)\n",
    "\n",
    "    for _ in range(pasos):\n",
    "        campo.mover_borracho(borracho)\n",
    "        coordenadas_x.append(campo.obtener_coordenada(borracho).x)\n",
    "        coordenadas_y.append(campo.obtener_coordenada(borracho).y)\n",
    "\n",
    "    return (coordenadas_x, coordenadas_y)\n",
    "\n",
    "def graficar(x, y,pasos):\n",
    "    grafica = figure(title='Random Walks',x_axis_label='x axis', y_axis_label='y axis')\n",
    "    grafica.line(x, y, legend_label='walk', color='yellowgreen',name='juan') #recorrido\n",
    "\n",
    "    # gráfica la línea inicial de movimiento porque no se puede graficar un punto\n",
    "    grafica.line(x[0:2],y[0:2],color='black',line_width=10)\n",
    "    grafica.line(x[-3:-1],y[-3:-1],color='red',line_width=10) #punto final y final-1\n",
    "    grafica.line(x[0:-1:pasos-1],y[0:-1:pasos-1]) #linea de punto inicial a punto final\n",
    "    show(grafica)\n",
    "\n",
    "def main(pasos, tipo_de_borracho):\n",
    "    campo=Campo()\n",
    "    coordenadas_x, coordenadas_y = caminata(campo, pasos, tipo_de_borracho)\n",
    "    graficar(coordenadas_x, coordenadas_y,pasos)\n",
    "\n",
    "if __name__ == '__main__':\n",
    "\n",
    "    pasos = 5000\n",
    "    main(pasos, BorrachoTradicional)\n"
   ]
  }
 ],
 "metadata": {
  "kernelspec": {
   "display_name": "Python 3",
   "language": "python",
   "name": "python3"
  },
  "language_info": {
   "codemirror_mode": {
    "name": "ipython",
    "version": 3
   },
   "file_extension": ".py",
   "mimetype": "text/x-python",
   "name": "python",
   "nbconvert_exporter": "python",
   "pygments_lexer": "ipython3",
   "version": "3.11.6"
  },
  "orig_nbformat": 4
 },
 "nbformat": 4,
 "nbformat_minor": 2
}
