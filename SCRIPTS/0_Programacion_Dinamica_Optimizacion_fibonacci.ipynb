{
 "cells": [
  {
   "attachments": {},
   "cell_type": "markdown",
   "metadata": {},
   "source": [
    "# Optimización de Fibonacci"
   ]
  },
  {
   "attachments": {},
   "cell_type": "markdown",
   "metadata": {},
   "source": [
    "En este video explican muy bien la utilización de “memoization” para optimizar la función de fibonacci \n",
    "- https://www.youtube.com/watch?v=Qk0zUZW-U_M"
   ]
  },
  {
   "cell_type": "code",
   "execution_count": 7,
   "metadata": {},
   "outputs": [],
   "source": [
    "def fibonacci_recursivo(n):\n",
    "    if n == 0 or n == 1:\n",
    "        return 1\n",
    "\n",
    "    return fibonacci_recursivo(n - 1) + fibonacci_recursivo(n - 2)\n",
    "\n",
    "\n",
    "#OPTIMIZAMOS CON MEMOIZATION, PROGRAMACIÓN DINÁMICA\n",
    "\n",
    "def fibonacci_dinamico(n, memo = {}):\n",
    "    if n == 0 or n == 1:\n",
    "        return 1\n",
    "\n",
    "    try:\n",
    "        return memo[n]\n",
    "    \n",
    "    except KeyError:\n",
    "        resultado = fibonacci_dinamico(n - 1, memo) + fibonacci_dinamico(n - 2, memo)\n",
    "        memo[n] = resultado\n",
    "        print(memo)\n",
    "\n",
    "        return resultado"
   ]
  },
  {
   "cell_type": "code",
   "execution_count": 4,
   "metadata": {},
   "outputs": [
    {
     "name": "stdout",
     "output_type": "stream",
     "text": [
      "8\n"
     ]
    }
   ],
   "source": [
    "import sys\n",
    "\n",
    "if __name__ == '__main__':\n",
    "    sys.setrecursionlimit(10002) #Cambiamos el límite de la recursividad\n",
    "    n = int(input('Escoge un numero: '))\n",
    "    resultado = fibonacci_recursivo(n)\n",
    "    print(resultado)"
   ]
  },
  {
   "cell_type": "code",
   "execution_count": 13,
   "metadata": {},
   "outputs": [
    {
     "name": "stdout",
     "output_type": "stream",
     "text": [
      "10946\n"
     ]
    }
   ],
   "source": [
    "# OPTIMIZAMOS CON MEMOIZATION\n",
    "import sys\n",
    "\n",
    "if __name__ == '__main__':\n",
    "    sys.setrecursionlimit(10002) #Cambiamos el límite de la recursividad\n",
    "    n = int(input('Escoge un numero: '))\n",
    "    resultado = fibonacci_dinamico(n)\n",
    "    print(resultado)"
   ]
  },
  {
   "cell_type": "markdown",
   "metadata": {},
   "source": []
  }
 ],
 "metadata": {
  "kernelspec": {
   "display_name": "Python 3",
   "language": "python",
   "name": "python3"
  },
  "language_info": {
   "codemirror_mode": {
    "name": "ipython",
    "version": 3
   },
   "file_extension": ".py",
   "mimetype": "text/x-python",
   "name": "python",
   "nbconvert_exporter": "python",
   "pygments_lexer": "ipython3",
   "version": "3.11.6"
  },
  "orig_nbformat": 4
 },
 "nbformat": 4,
 "nbformat_minor": 2
}
