{
 "cells": [
  {
   "cell_type": "code",
   "execution_count": 1,
   "metadata": {},
   "outputs": [
    {
     "name": "stdout",
     "output_type": "stream",
     "text": [
      "La probabilidad de obtener un par en una mano de 2 barajas es 0.06\n"
     ]
    }
   ],
   "source": [
    "import random\n",
    "import collections\n",
    "\n",
    "#Valores de los palos\n",
    "PALOS = ['espada', 'corazon', 'rombo', 'trebol']\n",
    "#Valores de las cartas\n",
    "VALORES = ['as', '2', '3' ,'4', '5', '6', '7', '8', '9', '10', 'jota', 'reina', 'rey']\n",
    "\n",
    "\n",
    "#Creacion de la baraja con PALOS y VALORES\n",
    "def crear_baraja():\n",
    "    baraja = []\n",
    "    for palo in PALOS:\n",
    "        for valor in VALORES:\n",
    "            baraja.append((palo, valor))\n",
    "    return baraja\n",
    "\n",
    "#Obtener mano\n",
    "def obtener_mano(baraja, tamano_mano):\n",
    "    mano = random.sample(baraja, tamano_mano)  # Con esta funcion extraigo una muestra sin reponerla,\n",
    "                                                # entonces no se va a repetir el resultado si vuelvo a llamar a la función\n",
    "    return mano\n",
    "#main\n",
    "def main(tamano_mano, intentos):\n",
    "    barajas = crear_baraja()\n",
    "    manos = []\n",
    "    \n",
    "    for _ in range(intentos):\n",
    "        mano = obtener_mano(barajas, tamano_mano)\n",
    "        manos.append(mano)\n",
    "\n",
    "    pares = 0\n",
    "    for mano in manos:\n",
    "        valores = []\n",
    "        for carta in mano:\n",
    "            valores.append(carta[1])# El palo es el índice cero y el valor es el índice 1\n",
    "\n",
    "        counter = dict(collections.Counter(valores)) # Counter cuenta cuantas veces encontro un determinado elemento\n",
    "        for val in counter.values():\n",
    "            if val == 2: # PAR\n",
    "                pares += 1\n",
    "                break\n",
    "\n",
    "    probabilidad_par = pares / intentos\n",
    "    print(f'La probabilidad de obtener un par en una mano de {tamano_mano} barajas es {probabilidad_par}')\n",
    "\n",
    "\n",
    "if __name__ == '__main__':\n",
    "    tamano_mano = int(input('Cartas por participante: '))\n",
    "    intentos = int(input('Cuantos intentos para calcular la probabilidad: '))\n",
    "\n",
    "    main(tamano_mano, intentos)"
   ]
  },
  {
   "cell_type": "code",
   "execution_count": 2,
   "metadata": {},
   "outputs": [
    {
     "data": {
      "text/plain": [
       "52"
      ]
     },
     "execution_count": 2,
     "metadata": {},
     "output_type": "execute_result"
    }
   ],
   "source": [
    "len(crear_baraja())"
   ]
  },
  {
   "cell_type": "code",
   "execution_count": 3,
   "metadata": {},
   "outputs": [
    {
     "data": {
      "text/plain": [
       "[('corazon', '7'), ('rombo', 'reina')]"
      ]
     },
     "execution_count": 3,
     "metadata": {},
     "output_type": "execute_result"
    }
   ],
   "source": [
    "obtener_mano(crear_baraja(),2)"
   ]
  }
 ],
 "metadata": {
  "kernelspec": {
   "display_name": "Python 3",
   "language": "python",
   "name": "python3"
  },
  "language_info": {
   "codemirror_mode": {
    "name": "ipython",
    "version": 3
   },
   "file_extension": ".py",
   "mimetype": "text/x-python",
   "name": "python",
   "nbconvert_exporter": "python",
   "pygments_lexer": "ipython3",
   "version": "3.11.6"
  },
  "orig_nbformat": 4
 },
 "nbformat": 4,
 "nbformat_minor": 2
}
